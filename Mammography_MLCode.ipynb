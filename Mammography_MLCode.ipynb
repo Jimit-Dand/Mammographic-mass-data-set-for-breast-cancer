{
 "cells": [
  {
   "cell_type": "code",
   "execution_count": 1,
   "id": "3f4ef20b",
   "metadata": {},
   "outputs": [],
   "source": [
    "# Import numpy, pandas, time and datetime\n",
    "import pandas as pd\n",
    "import numpy as np\n",
    "\n",
    "# Import libraries for plotting\n",
    "import matplotlib.pyplot as plt\n",
    "import seaborn as sns\n",
    "# for plt.show() \n",
    "%matplotlib inline\n",
    "\n",
    "# Evaluation metrics\n",
    "import sklearn\n",
    "from sklearn import metrics\n",
    "from sklearn.metrics import classification_report\n",
    "from sklearn.metrics import confusion_matrix\n",
    "from sklearn.metrics import roc_curve, auc\n",
    "from sklearn.metrics import precision_recall_curve\n",
    "\n",
    "# import for pre-processing\n",
    "from sklearn.preprocessing import StandardScaler, MinMaxScaler\n",
    "from sklearn.preprocessing import scale\n",
    "# label encoding\n",
    "from sklearn.preprocessing import LabelEncoder\n",
    "\n",
    "# Import for model selection:\n",
    "# splitting data into training and test data (validation set)\n",
    "from sklearn.model_selection import train_test_split\n",
    "from sklearn.model_selection import GridSearchCV\n",
    "\n",
    "# filter warnings\n",
    "import sys, os\n",
    "import warnings\n",
    "warnings.filterwarnings('ignore')\n",
    "\n",
    "# Regular Expression \n",
    "import re "
   ]
  },
  {
   "cell_type": "code",
   "execution_count": 2,
   "id": "cc1dc837",
   "metadata": {},
   "outputs": [],
   "source": [
    "#Loading train and test datasets\n",
    "train_df = pd.read_excel('C:/Users/3644079/Downloads/MLCode-Mammography/train.xlsx', index_col=0)\n",
    "test_df = pd.read_excel('C:/Users/3644079/Downloads/MLCode-Mammography/test.xlsx', index_col=0)"
   ]
  },
  {
   "cell_type": "code",
   "execution_count": 3,
   "id": "43bc053e",
   "metadata": {},
   "outputs": [
    {
     "data": {
      "text/plain": [
       "(811, 6)"
      ]
     },
     "execution_count": 3,
     "metadata": {},
     "output_type": "execute_result"
    }
   ],
   "source": [
    "train_df.shape"
   ]
  },
  {
   "cell_type": "code",
   "execution_count": 4,
   "id": "ac62d01a",
   "metadata": {},
   "outputs": [
    {
     "data": {
      "text/html": [
       "<div>\n",
       "<style scoped>\n",
       "    .dataframe tbody tr th:only-of-type {\n",
       "        vertical-align: middle;\n",
       "    }\n",
       "\n",
       "    .dataframe tbody tr th {\n",
       "        vertical-align: top;\n",
       "    }\n",
       "\n",
       "    .dataframe thead th {\n",
       "        text-align: right;\n",
       "    }\n",
       "</style>\n",
       "<table border=\"1\" class=\"dataframe\">\n",
       "  <thead>\n",
       "    <tr style=\"text-align: right;\">\n",
       "      <th></th>\n",
       "      <th>BI_RADS</th>\n",
       "      <th>Age</th>\n",
       "      <th>Shape</th>\n",
       "      <th>Margin</th>\n",
       "      <th>Mass_Density</th>\n",
       "      <th>Severity</th>\n",
       "    </tr>\n",
       "    <tr>\n",
       "      <th>Index</th>\n",
       "      <th></th>\n",
       "      <th></th>\n",
       "      <th></th>\n",
       "      <th></th>\n",
       "      <th></th>\n",
       "      <th></th>\n",
       "    </tr>\n",
       "  </thead>\n",
       "  <tbody>\n",
       "    <tr>\n",
       "      <th>1</th>\n",
       "      <td>5.0</td>\n",
       "      <td>67.0</td>\n",
       "      <td>lobular</td>\n",
       "      <td>spiculated</td>\n",
       "      <td>low</td>\n",
       "      <td>1</td>\n",
       "    </tr>\n",
       "    <tr>\n",
       "      <th>2</th>\n",
       "      <td>4.0</td>\n",
       "      <td>43.0</td>\n",
       "      <td>round</td>\n",
       "      <td>circumscribed</td>\n",
       "      <td>NaN</td>\n",
       "      <td>1</td>\n",
       "    </tr>\n",
       "    <tr>\n",
       "      <th>3</th>\n",
       "      <td>5.0</td>\n",
       "      <td>58.0</td>\n",
       "      <td>irregular</td>\n",
       "      <td>spiculated</td>\n",
       "      <td>low</td>\n",
       "      <td>1</td>\n",
       "    </tr>\n",
       "    <tr>\n",
       "      <th>4</th>\n",
       "      <td>4.0</td>\n",
       "      <td>28.0</td>\n",
       "      <td>round</td>\n",
       "      <td>circumscribed</td>\n",
       "      <td>low</td>\n",
       "      <td>0</td>\n",
       "    </tr>\n",
       "    <tr>\n",
       "      <th>5</th>\n",
       "      <td>5.0</td>\n",
       "      <td>74.0</td>\n",
       "      <td>round</td>\n",
       "      <td>spiculated</td>\n",
       "      <td>NaN</td>\n",
       "      <td>1</td>\n",
       "    </tr>\n",
       "  </tbody>\n",
       "</table>\n",
       "</div>"
      ],
      "text/plain": [
       "       BI_RADS   Age      Shape         Margin Mass_Density  Severity\n",
       "Index                                                                \n",
       "1          5.0  67.0    lobular     spiculated          low         1\n",
       "2          4.0  43.0      round  circumscribed          NaN         1\n",
       "3          5.0  58.0  irregular     spiculated          low         1\n",
       "4          4.0  28.0      round  circumscribed          low         0\n",
       "5          5.0  74.0      round     spiculated          NaN         1"
      ]
     },
     "execution_count": 4,
     "metadata": {},
     "output_type": "execute_result"
    }
   ],
   "source": [
    "train_df.head()"
   ]
  },
  {
   "cell_type": "code",
   "execution_count": 5,
   "id": "d2c56bbf",
   "metadata": {},
   "outputs": [
    {
     "data": {
      "text/html": [
       "<div>\n",
       "<style scoped>\n",
       "    .dataframe tbody tr th:only-of-type {\n",
       "        vertical-align: middle;\n",
       "    }\n",
       "\n",
       "    .dataframe tbody tr th {\n",
       "        vertical-align: top;\n",
       "    }\n",
       "\n",
       "    .dataframe thead th {\n",
       "        text-align: right;\n",
       "    }\n",
       "</style>\n",
       "<table border=\"1\" class=\"dataframe\">\n",
       "  <thead>\n",
       "    <tr style=\"text-align: right;\">\n",
       "      <th></th>\n",
       "      <th>BI_RADS</th>\n",
       "      <th>Age</th>\n",
       "      <th>Severity</th>\n",
       "    </tr>\n",
       "  </thead>\n",
       "  <tbody>\n",
       "    <tr>\n",
       "      <th>count</th>\n",
       "      <td>809.000000</td>\n",
       "      <td>723.000000</td>\n",
       "      <td>811.000000</td>\n",
       "    </tr>\n",
       "    <tr>\n",
       "      <th>mean</th>\n",
       "      <td>4.379481</td>\n",
       "      <td>55.887967</td>\n",
       "      <td>0.459926</td>\n",
       "    </tr>\n",
       "    <tr>\n",
       "      <th>std</th>\n",
       "      <td>1.914800</td>\n",
       "      <td>16.886616</td>\n",
       "      <td>0.498699</td>\n",
       "    </tr>\n",
       "    <tr>\n",
       "      <th>min</th>\n",
       "      <td>0.000000</td>\n",
       "      <td>5.000000</td>\n",
       "      <td>0.000000</td>\n",
       "    </tr>\n",
       "    <tr>\n",
       "      <th>25%</th>\n",
       "      <td>4.000000</td>\n",
       "      <td>45.000000</td>\n",
       "      <td>0.000000</td>\n",
       "    </tr>\n",
       "    <tr>\n",
       "      <th>50%</th>\n",
       "      <td>4.000000</td>\n",
       "      <td>56.000000</td>\n",
       "      <td>0.000000</td>\n",
       "    </tr>\n",
       "    <tr>\n",
       "      <th>75%</th>\n",
       "      <td>5.000000</td>\n",
       "      <td>66.000000</td>\n",
       "      <td>1.000000</td>\n",
       "    </tr>\n",
       "    <tr>\n",
       "      <th>max</th>\n",
       "      <td>55.000000</td>\n",
       "      <td>130.000000</td>\n",
       "      <td>1.000000</td>\n",
       "    </tr>\n",
       "  </tbody>\n",
       "</table>\n",
       "</div>"
      ],
      "text/plain": [
       "          BI_RADS         Age    Severity\n",
       "count  809.000000  723.000000  811.000000\n",
       "mean     4.379481   55.887967    0.459926\n",
       "std      1.914800   16.886616    0.498699\n",
       "min      0.000000    5.000000    0.000000\n",
       "25%      4.000000   45.000000    0.000000\n",
       "50%      4.000000   56.000000    0.000000\n",
       "75%      5.000000   66.000000    1.000000\n",
       "max     55.000000  130.000000    1.000000"
      ]
     },
     "execution_count": 5,
     "metadata": {},
     "output_type": "execute_result"
    }
   ],
   "source": [
    "train_df.describe()"
   ]
  },
  {
   "cell_type": "code",
   "execution_count": 6,
   "id": "1b32f961",
   "metadata": {},
   "outputs": [
    {
     "name": "stdout",
     "output_type": "stream",
     "text": [
      "<class 'pandas.core.frame.DataFrame'>\n",
      "Int64Index: 811 entries, 1 to 811\n",
      "Data columns (total 6 columns):\n",
      " #   Column        Non-Null Count  Dtype  \n",
      "---  ------        --------------  -----  \n",
      " 0   BI_RADS       809 non-null    float64\n",
      " 1   Age           723 non-null    float64\n",
      " 2   Shape         781 non-null    object \n",
      " 3   Margin        764 non-null    object \n",
      " 4   Mass_Density  735 non-null    object \n",
      " 5   Severity      811 non-null    int64  \n",
      "dtypes: float64(2), int64(1), object(3)\n",
      "memory usage: 44.4+ KB\n"
     ]
    }
   ],
   "source": [
    "train_df.info()"
   ]
  },
  {
   "cell_type": "markdown",
   "id": "775910c3",
   "metadata": {},
   "source": [
    "# Pre-processing on Train dataset"
   ]
  },
  {
   "cell_type": "markdown",
   "id": "6aff0bbf",
   "metadata": {},
   "source": [
    "## BI_RADS"
   ]
  },
  {
   "cell_type": "code",
   "execution_count": 7,
   "id": "0ae003b3",
   "metadata": {
    "scrolled": true
   },
   "outputs": [
    {
     "data": {
      "text/plain": [
       "4.0     438\n",
       "5.0     312\n",
       "3.0      34\n",
       "2.0      13\n",
       "6.0       8\n",
       "0.0       3\n",
       "55.0      1\n",
       "Name: BI_RADS, dtype: int64"
      ]
     },
     "execution_count": 7,
     "metadata": {},
     "output_type": "execute_result"
    }
   ],
   "source": [
    "train_df.BI_RADS.value_counts()"
   ]
  },
  {
   "cell_type": "code",
   "execution_count": 8,
   "id": "748d72cc",
   "metadata": {},
   "outputs": [],
   "source": [
    "# Replace null value with MODE \n",
    "train_df.BI_RADS.fillna(value=train_df.BI_RADS.mode()[0], inplace=True)"
   ]
  },
  {
   "cell_type": "code",
   "execution_count": 9,
   "id": "50eae776",
   "metadata": {},
   "outputs": [],
   "source": [
    "# Filter BI_RADS within 1 to 5 \n",
    "train_df = train_df[(train_df['BI_RADS'] >= 1) & (train_df['BI_RADS'] <= 5)]"
   ]
  },
  {
   "cell_type": "code",
   "execution_count": 10,
   "id": "a0f91331",
   "metadata": {},
   "outputs": [
    {
     "data": {
      "text/plain": [
       "4.0    440\n",
       "5.0    312\n",
       "3.0     34\n",
       "2.0     13\n",
       "Name: BI_RADS, dtype: int64"
      ]
     },
     "execution_count": 10,
     "metadata": {},
     "output_type": "execute_result"
    }
   ],
   "source": [
    "train_df.BI_RADS.value_counts()"
   ]
  },
  {
   "cell_type": "code",
   "execution_count": 11,
   "id": "268697f1",
   "metadata": {
    "scrolled": true
   },
   "outputs": [
    {
     "data": {
      "text/plain": [
       "(799, 6)"
      ]
     },
     "execution_count": 11,
     "metadata": {},
     "output_type": "execute_result"
    }
   ],
   "source": [
    "train_df.shape"
   ]
  },
  {
   "cell_type": "markdown",
   "id": "d9b315fd",
   "metadata": {},
   "source": [
    "## Age"
   ]
  },
  {
   "cell_type": "code",
   "execution_count": 12,
   "id": "bfd20308",
   "metadata": {},
   "outputs": [],
   "source": [
    "# function for data lables in bar graph\n",
    "def datalable(g):\n",
    "    for p in g.patches:\n",
    "        g.annotate(format(p.get_height(), '.0f'), \n",
    "                   (p.get_x() + p.get_width() / 2., p.get_height()), \n",
    "                   ha = 'center', va = 'center', \n",
    "                   xytext = (0, 9), \n",
    "                   textcoords = 'offset points')   "
   ]
  },
  {
   "cell_type": "code",
   "execution_count": 13,
   "id": "b9496d16",
   "metadata": {
    "scrolled": false
   },
   "outputs": [
    {
     "data": {
      "image/png": "[encoded data removed]",
      "text/plain": [
       "<Figure size 864x504 with 1 Axes>"
      ]
     },
     "metadata": {
      "needs_background": "light"
     },
     "output_type": "display_data"
    }
   ],
   "source": [
    "plt.figure(figsize=(12,7))\n",
    "\n",
    "g = sns.barplot(train_df.groupby('Age').size().sort_values(ascending=False).index, \n",
    "                train_df.groupby('Age').size().sort_values(ascending=False).values,palette=(\"rocket\"))\n",
    "datalable(g)\n",
    "plt.xlabel(\"Age\")\n",
    "plt.ylabel(\"Users\")\n",
    "plt.xticks(rotation=90);"
   ]
  },
  {
   "cell_type": "markdown",
   "id": "0f206d31",
   "metadata": {},
   "source": [
    "Note : Age is normally distributed"
   ]
  },
  {
   "cell_type": "code",
   "execution_count": 14,
   "id": "82504d78",
   "metadata": {
    "scrolled": true
   },
   "outputs": [
    {
     "data": {
      "text/plain": [
       "count    712.000000\n",
       "mean      55.772472\n",
       "std       16.925049\n",
       "min        5.000000\n",
       "25%       45.000000\n",
       "50%       56.000000\n",
       "75%       66.000000\n",
       "max      130.000000\n",
       "Name: Age, dtype: float64"
      ]
     },
     "execution_count": 14,
     "metadata": {},
     "output_type": "execute_result"
    }
   ],
   "source": [
    "train_df.Age.describe()"
   ]
  },
  {
   "cell_type": "code",
   "execution_count": 15,
   "id": "71751054",
   "metadata": {},
   "outputs": [
    {
     "data": {
      "text/plain": [
       "0    59.0\n",
       "dtype: float64"
      ]
     },
     "execution_count": 15,
     "metadata": {},
     "output_type": "execute_result"
    }
   ],
   "source": [
    "train_df.Age.mode()"
   ]
  },
  {
   "cell_type": "code",
   "execution_count": 16,
   "id": "7ead3a2b",
   "metadata": {},
   "outputs": [],
   "source": [
    "# Replace null value with MODE \n",
    "train_df.Age.fillna(value=train_df.Age.mode()[0], inplace=True)"
   ]
  },
  {
   "cell_type": "code",
   "execution_count": 17,
   "id": "8416dc2f",
   "metadata": {},
   "outputs": [
    {
     "data": {
      "text/plain": [
       "(799, 6)"
      ]
     },
     "execution_count": 17,
     "metadata": {},
     "output_type": "execute_result"
    }
   ],
   "source": [
    "train_df.shape"
   ]
  },
  {
   "cell_type": "code",
   "execution_count": 18,
   "id": "11f57e71",
   "metadata": {},
   "outputs": [],
   "source": [
    "# Filter age within 18 to 96. Age 5 and 130 are outliers.\n",
    "train_df = train_df[(train_df['Age'] >= 18) & (train_df['Age'] <= 96)]"
   ]
  },
  {
   "cell_type": "code",
   "execution_count": 19,
   "id": "8ff4b073",
   "metadata": {},
   "outputs": [
    {
     "data": {
      "text/plain": [
       "(784, 6)"
      ]
     },
     "execution_count": 19,
     "metadata": {},
     "output_type": "execute_result"
    }
   ],
   "source": [
    "train_df.shape"
   ]
  },
  {
   "cell_type": "markdown",
   "id": "ff4092a5",
   "metadata": {},
   "source": [
    "## Shape"
   ]
  },
  {
   "cell_type": "code",
   "execution_count": 20,
   "id": "e1a6e87a",
   "metadata": {
    "scrolled": true
   },
   "outputs": [
    {
     "data": {
      "text/plain": [
       "irregular    325\n",
       "round        188\n",
       "oval         174\n",
       "lobular       67\n",
       "Name: Shape, dtype: int64"
      ]
     },
     "execution_count": 20,
     "metadata": {},
     "output_type": "execute_result"
    }
   ],
   "source": [
    "train_df.Shape.value_counts()"
   ]
  },
  {
   "cell_type": "code",
   "execution_count": 21,
   "id": "5fe29f55",
   "metadata": {
    "scrolled": true
   },
   "outputs": [
    {
     "name": "stdout",
     "output_type": "stream",
     "text": [
      "<class 'pandas.core.frame.DataFrame'>\n",
      "Int64Index: 784 entries, 1 to 811\n",
      "Data columns (total 6 columns):\n",
      " #   Column        Non-Null Count  Dtype  \n",
      "---  ------        --------------  -----  \n",
      " 0   BI_RADS       784 non-null    float64\n",
      " 1   Age           784 non-null    float64\n",
      " 2   Shape         754 non-null    object \n",
      " 3   Margin        738 non-null    object \n",
      " 4   Mass_Density  709 non-null    object \n",
      " 5   Severity      784 non-null    int64  \n",
      "dtypes: float64(2), int64(1), object(3)\n",
      "memory usage: 42.9+ KB\n"
     ]
    }
   ],
   "source": [
    "train_df.info()"
   ]
  },
  {
   "cell_type": "code",
   "execution_count": 22,
   "id": "b907b692",
   "metadata": {},
   "outputs": [],
   "source": [
    "# Replace null value with MODE \n",
    "train_df.Shape.fillna(value=train_df.Shape.mode()[0], inplace=True)"
   ]
  },
  {
   "cell_type": "code",
   "execution_count": 23,
   "id": "58c6fef7",
   "metadata": {
    "scrolled": true
   },
   "outputs": [
    {
     "data": {
      "text/plain": [
       "Mass_Density    9.57\n",
       "Margin          5.87\n",
       "BI_RADS         0.00\n",
       "Age             0.00\n",
       "Shape           0.00\n",
       "Severity        0.00\n",
       "dtype: float64"
      ]
     },
     "execution_count": 23,
     "metadata": {},
     "output_type": "execute_result"
    }
   ],
   "source": [
    "#percentage of missing data \n",
    "round(100*(train_df.isnull().sum()/len(train_df.index)), 2).sort_values(ascending=False)"
   ]
  },
  {
   "cell_type": "code",
   "execution_count": 24,
   "id": "39792a8e",
   "metadata": {},
   "outputs": [],
   "source": [
    "# One hot encoding on Shape categorical column \n",
    "train_df = pd.concat([train_df,pd.get_dummies(train_df['Shape'], prefix='Shape')],axis=1)"
   ]
  },
  {
   "cell_type": "code",
   "execution_count": 25,
   "id": "b0df7b72",
   "metadata": {
    "scrolled": true
   },
   "outputs": [
    {
     "data": {
      "text/html": [
       "<div>\n",
       "<style scoped>\n",
       "    .dataframe tbody tr th:only-of-type {\n",
       "        vertical-align: middle;\n",
       "    }\n",
       "\n",
       "    .dataframe tbody tr th {\n",
       "        vertical-align: top;\n",
       "    }\n",
       "\n",
       "    .dataframe thead th {\n",
       "        text-align: right;\n",
       "    }\n",
       "</style>\n",
       "<table border=\"1\" class=\"dataframe\">\n",
       "  <thead>\n",
       "    <tr style=\"text-align: right;\">\n",
       "      <th></th>\n",
       "      <th>BI_RADS</th>\n",
       "      <th>Age</th>\n",
       "      <th>Shape</th>\n",
       "      <th>Margin</th>\n",
       "      <th>Mass_Density</th>\n",
       "      <th>Severity</th>\n",
       "      <th>Shape_irregular</th>\n",
       "      <th>Shape_lobular</th>\n",
       "      <th>Shape_oval</th>\n",
       "      <th>Shape_round</th>\n",
       "    </tr>\n",
       "    <tr>\n",
       "      <th>Index</th>\n",
       "      <th></th>\n",
       "      <th></th>\n",
       "      <th></th>\n",
       "      <th></th>\n",
       "      <th></th>\n",
       "      <th></th>\n",
       "      <th></th>\n",
       "      <th></th>\n",
       "      <th></th>\n",
       "      <th></th>\n",
       "    </tr>\n",
       "  </thead>\n",
       "  <tbody>\n",
       "    <tr>\n",
       "      <th>1</th>\n",
       "      <td>5.0</td>\n",
       "      <td>67.0</td>\n",
       "      <td>lobular</td>\n",
       "      <td>spiculated</td>\n",
       "      <td>low</td>\n",
       "      <td>1</td>\n",
       "      <td>0</td>\n",
       "      <td>1</td>\n",
       "      <td>0</td>\n",
       "      <td>0</td>\n",
       "    </tr>\n",
       "    <tr>\n",
       "      <th>2</th>\n",
       "      <td>4.0</td>\n",
       "      <td>43.0</td>\n",
       "      <td>round</td>\n",
       "      <td>circumscribed</td>\n",
       "      <td>NaN</td>\n",
       "      <td>1</td>\n",
       "      <td>0</td>\n",
       "      <td>0</td>\n",
       "      <td>0</td>\n",
       "      <td>1</td>\n",
       "    </tr>\n",
       "    <tr>\n",
       "      <th>3</th>\n",
       "      <td>5.0</td>\n",
       "      <td>58.0</td>\n",
       "      <td>irregular</td>\n",
       "      <td>spiculated</td>\n",
       "      <td>low</td>\n",
       "      <td>1</td>\n",
       "      <td>1</td>\n",
       "      <td>0</td>\n",
       "      <td>0</td>\n",
       "      <td>0</td>\n",
       "    </tr>\n",
       "    <tr>\n",
       "      <th>4</th>\n",
       "      <td>4.0</td>\n",
       "      <td>28.0</td>\n",
       "      <td>round</td>\n",
       "      <td>circumscribed</td>\n",
       "      <td>low</td>\n",
       "      <td>0</td>\n",
       "      <td>0</td>\n",
       "      <td>0</td>\n",
       "      <td>0</td>\n",
       "      <td>1</td>\n",
       "    </tr>\n",
       "    <tr>\n",
       "      <th>5</th>\n",
       "      <td>5.0</td>\n",
       "      <td>74.0</td>\n",
       "      <td>round</td>\n",
       "      <td>spiculated</td>\n",
       "      <td>NaN</td>\n",
       "      <td>1</td>\n",
       "      <td>0</td>\n",
       "      <td>0</td>\n",
       "      <td>0</td>\n",
       "      <td>1</td>\n",
       "    </tr>\n",
       "  </tbody>\n",
       "</table>\n",
       "</div>"
      ],
      "text/plain": [
       "       BI_RADS   Age      Shape         Margin Mass_Density  Severity  \\\n",
       "Index                                                                   \n",
       "1          5.0  67.0    lobular     spiculated          low         1   \n",
       "2          4.0  43.0      round  circumscribed          NaN         1   \n",
       "3          5.0  58.0  irregular     spiculated          low         1   \n",
       "4          4.0  28.0      round  circumscribed          low         0   \n",
       "5          5.0  74.0      round     spiculated          NaN         1   \n",
       "\n",
       "       Shape_irregular  Shape_lobular  Shape_oval  Shape_round  \n",
       "Index                                                           \n",
       "1                    0              1           0            0  \n",
       "2                    0              0           0            1  \n",
       "3                    1              0           0            0  \n",
       "4                    0              0           0            1  \n",
       "5                    0              0           0            1  "
      ]
     },
     "execution_count": 25,
     "metadata": {},
     "output_type": "execute_result"
    }
   ],
   "source": [
    "train_df.head()"
   ]
  },
  {
   "cell_type": "markdown",
   "id": "1499192d",
   "metadata": {},
   "source": [
    "## Margin"
   ]
  },
  {
   "cell_type": "code",
   "execution_count": 26,
   "id": "06e90a88",
   "metadata": {
    "scrolled": true
   },
   "outputs": [
    {
     "data": {
      "text/plain": [
       "circumscribed     291\n",
       "ill-defined       229\n",
       "spiculated        109\n",
       "obscured           93\n",
       "microlobulated     16\n",
       "Name: Margin, dtype: int64"
      ]
     },
     "execution_count": 26,
     "metadata": {},
     "output_type": "execute_result"
    }
   ],
   "source": [
    "train_df.Margin.value_counts()"
   ]
  },
  {
   "cell_type": "code",
   "execution_count": 27,
   "id": "d048c7c6",
   "metadata": {},
   "outputs": [],
   "source": [
    "# Replace null value with MODE \n",
    "train_df.Margin.fillna(value=train_df.Margin.mode()[0], inplace=True)"
   ]
  },
  {
   "cell_type": "code",
   "execution_count": 28,
   "id": "a6ab2dff",
   "metadata": {},
   "outputs": [
    {
     "data": {
      "text/plain": [
       "Mass_Density       9.57\n",
       "BI_RADS            0.00\n",
       "Age                0.00\n",
       "Shape              0.00\n",
       "Margin             0.00\n",
       "Severity           0.00\n",
       "Shape_irregular    0.00\n",
       "Shape_lobular      0.00\n",
       "Shape_oval         0.00\n",
       "Shape_round        0.00\n",
       "dtype: float64"
      ]
     },
     "execution_count": 28,
     "metadata": {},
     "output_type": "execute_result"
    }
   ],
   "source": [
    "#percentage of missing data \n",
    "round(100*(train_df.isnull().sum()/len(train_df.index)), 2).sort_values(ascending=False)"
   ]
  },
  {
   "cell_type": "code",
   "execution_count": 29,
   "id": "b13c977e",
   "metadata": {},
   "outputs": [],
   "source": [
    "# One hot encoding on Margin categorical column \n",
    "train_df = pd.concat([train_df,pd.get_dummies(train_df['Margin'], prefix='Margin')],axis=1)"
   ]
  },
  {
   "cell_type": "code",
   "execution_count": 30,
   "id": "95232c39",
   "metadata": {
    "scrolled": true
   },
   "outputs": [
    {
     "data": {
      "text/html": [
       "<div>\n",
       "<style scoped>\n",
       "    .dataframe tbody tr th:only-of-type {\n",
       "        vertical-align: middle;\n",
       "    }\n",
       "\n",
       "    .dataframe tbody tr th {\n",
       "        vertical-align: top;\n",
       "    }\n",
       "\n",
       "    .dataframe thead th {\n",
       "        text-align: right;\n",
       "    }\n",
       "</style>\n",
       "<table border=\"1\" class=\"dataframe\">\n",
       "  <thead>\n",
       "    <tr style=\"text-align: right;\">\n",
       "      <th></th>\n",
       "      <th>BI_RADS</th>\n",
       "      <th>Age</th>\n",
       "      <th>Shape</th>\n",
       "      <th>Margin</th>\n",
       "      <th>Mass_Density</th>\n",
       "      <th>Severity</th>\n",
       "      <th>Shape_irregular</th>\n",
       "      <th>Shape_lobular</th>\n",
       "      <th>Shape_oval</th>\n",
       "      <th>Shape_round</th>\n",
       "      <th>Margin_circumscribed</th>\n",
       "      <th>Margin_ill-defined</th>\n",
       "      <th>Margin_microlobulated</th>\n",
       "      <th>Margin_obscured</th>\n",
       "      <th>Margin_spiculated</th>\n",
       "    </tr>\n",
       "    <tr>\n",
       "      <th>Index</th>\n",
       "      <th></th>\n",
       "      <th></th>\n",
       "      <th></th>\n",
       "      <th></th>\n",
       "      <th></th>\n",
       "      <th></th>\n",
       "      <th></th>\n",
       "      <th></th>\n",
       "      <th></th>\n",
       "      <th></th>\n",
       "      <th></th>\n",
       "      <th></th>\n",
       "      <th></th>\n",
       "      <th></th>\n",
       "      <th></th>\n",
       "    </tr>\n",
       "  </thead>\n",
       "  <tbody>\n",
       "    <tr>\n",
       "      <th>1</th>\n",
       "      <td>5.0</td>\n",
       "      <td>67.0</td>\n",
       "      <td>lobular</td>\n",
       "      <td>spiculated</td>\n",
       "      <td>low</td>\n",
       "      <td>1</td>\n",
       "      <td>0</td>\n",
       "      <td>1</td>\n",
       "      <td>0</td>\n",
       "      <td>0</td>\n",
       "      <td>0</td>\n",
       "      <td>0</td>\n",
       "      <td>0</td>\n",
       "      <td>0</td>\n",
       "      <td>1</td>\n",
       "    </tr>\n",
       "    <tr>\n",
       "      <th>2</th>\n",
       "      <td>4.0</td>\n",
       "      <td>43.0</td>\n",
       "      <td>round</td>\n",
       "      <td>circumscribed</td>\n",
       "      <td>NaN</td>\n",
       "      <td>1</td>\n",
       "      <td>0</td>\n",
       "      <td>0</td>\n",
       "      <td>0</td>\n",
       "      <td>1</td>\n",
       "      <td>1</td>\n",
       "      <td>0</td>\n",
       "      <td>0</td>\n",
       "      <td>0</td>\n",
       "      <td>0</td>\n",
       "    </tr>\n",
       "    <tr>\n",
       "      <th>3</th>\n",
       "      <td>5.0</td>\n",
       "      <td>58.0</td>\n",
       "      <td>irregular</td>\n",
       "      <td>spiculated</td>\n",
       "      <td>low</td>\n",
       "      <td>1</td>\n",
       "      <td>1</td>\n",
       "      <td>0</td>\n",
       "      <td>0</td>\n",
       "      <td>0</td>\n",
       "      <td>0</td>\n",
       "      <td>0</td>\n",
       "      <td>0</td>\n",
       "      <td>0</td>\n",
       "      <td>1</td>\n",
       "    </tr>\n",
       "    <tr>\n",
       "      <th>4</th>\n",
       "      <td>4.0</td>\n",
       "      <td>28.0</td>\n",
       "      <td>round</td>\n",
       "      <td>circumscribed</td>\n",
       "      <td>low</td>\n",
       "      <td>0</td>\n",
       "      <td>0</td>\n",
       "      <td>0</td>\n",
       "      <td>0</td>\n",
       "      <td>1</td>\n",
       "      <td>1</td>\n",
       "      <td>0</td>\n",
       "      <td>0</td>\n",
       "      <td>0</td>\n",
       "      <td>0</td>\n",
       "    </tr>\n",
       "    <tr>\n",
       "      <th>5</th>\n",
       "      <td>5.0</td>\n",
       "      <td>74.0</td>\n",
       "      <td>round</td>\n",
       "      <td>spiculated</td>\n",
       "      <td>NaN</td>\n",
       "      <td>1</td>\n",
       "      <td>0</td>\n",
       "      <td>0</td>\n",
       "      <td>0</td>\n",
       "      <td>1</td>\n",
       "      <td>0</td>\n",
       "      <td>0</td>\n",
       "      <td>0</td>\n",
       "      <td>0</td>\n",
       "      <td>1</td>\n",
       "    </tr>\n",
       "  </tbody>\n",
       "</table>\n",
       "</div>"
      ],
      "text/plain": [
       "       BI_RADS   Age      Shape         Margin Mass_Density  Severity  \\\n",
       "Index                                                                   \n",
       "1          5.0  67.0    lobular     spiculated          low         1   \n",
       "2          4.0  43.0      round  circumscribed          NaN         1   \n",
       "3          5.0  58.0  irregular     spiculated          low         1   \n",
       "4          4.0  28.0      round  circumscribed          low         0   \n",
       "5          5.0  74.0      round     spiculated          NaN         1   \n",
       "\n",
       "       Shape_irregular  Shape_lobular  Shape_oval  Shape_round  \\\n",
       "Index                                                            \n",
       "1                    0              1           0            0   \n",
       "2                    0              0           0            1   \n",
       "3                    1              0           0            0   \n",
       "4                    0              0           0            1   \n",
       "5                    0              0           0            1   \n",
       "\n",
       "       Margin_circumscribed  Margin_ill-defined  Margin_microlobulated  \\\n",
       "Index                                                                    \n",
       "1                         0                   0                      0   \n",
       "2                         1                   0                      0   \n",
       "3                         0                   0                      0   \n",
       "4                         1                   0                      0   \n",
       "5                         0                   0                      0   \n",
       "\n",
       "       Margin_obscured  Margin_spiculated  \n",
       "Index                                      \n",
       "1                    0                  1  \n",
       "2                    0                  0  \n",
       "3                    0                  1  \n",
       "4                    0                  0  \n",
       "5                    0                  1  "
      ]
     },
     "execution_count": 30,
     "metadata": {},
     "output_type": "execute_result"
    }
   ],
   "source": [
    "train_df.head()"
   ]
  },
  {
   "cell_type": "markdown",
   "id": "059f1f1e",
   "metadata": {},
   "source": [
    "## Mass_Density"
   ]
  },
  {
   "cell_type": "code",
   "execution_count": 31,
   "id": "f89e5027",
   "metadata": {},
   "outputs": [
    {
     "data": {
      "text/plain": [
       "low               638\n",
       "iso                48\n",
       "high               13\n",
       "fat-containing     10\n",
       "Name: Mass_Density, dtype: int64"
      ]
     },
     "execution_count": 31,
     "metadata": {},
     "output_type": "execute_result"
    }
   ],
   "source": [
    "train_df.Mass_Density.value_counts()"
   ]
  },
  {
   "cell_type": "code",
   "execution_count": 32,
   "id": "55079b29",
   "metadata": {},
   "outputs": [],
   "source": [
    "# Replace null value with MODE \n",
    "train_df.Mass_Density.fillna(value=train_df.Mass_Density.mode()[0], inplace=True)"
   ]
  },
  {
   "cell_type": "code",
   "execution_count": 33,
   "id": "fcedad7a",
   "metadata": {
    "scrolled": true
   },
   "outputs": [],
   "source": [
    "# Mass_Density is ordinal column. Converting categorical variable into numeric using map function.\n",
    "train_df['Mass_Density_encode'] = train_df['Mass_Density'].map({'high':1, 'iso':2, 'low':3, 'fat-containing':4})"
   ]
  },
  {
   "cell_type": "code",
   "execution_count": 34,
   "id": "552f366e",
   "metadata": {
    "scrolled": true
   },
   "outputs": [
    {
     "data": {
      "text/html": [
       "<div>\n",
       "<style scoped>\n",
       "    .dataframe tbody tr th:only-of-type {\n",
       "        vertical-align: middle;\n",
       "    }\n",
       "\n",
       "    .dataframe tbody tr th {\n",
       "        vertical-align: top;\n",
       "    }\n",
       "\n",
       "    .dataframe thead th {\n",
       "        text-align: right;\n",
       "    }\n",
       "</style>\n",
       "<table border=\"1\" class=\"dataframe\">\n",
       "  <thead>\n",
       "    <tr style=\"text-align: right;\">\n",
       "      <th></th>\n",
       "      <th>BI_RADS</th>\n",
       "      <th>Age</th>\n",
       "      <th>Shape</th>\n",
       "      <th>Margin</th>\n",
       "      <th>Mass_Density</th>\n",
       "      <th>Severity</th>\n",
       "      <th>Shape_irregular</th>\n",
       "      <th>Shape_lobular</th>\n",
       "      <th>Shape_oval</th>\n",
       "      <th>Shape_round</th>\n",
       "      <th>Margin_circumscribed</th>\n",
       "      <th>Margin_ill-defined</th>\n",
       "      <th>Margin_microlobulated</th>\n",
       "      <th>Margin_obscured</th>\n",
       "      <th>Margin_spiculated</th>\n",
       "      <th>Mass_Density_encode</th>\n",
       "    </tr>\n",
       "    <tr>\n",
       "      <th>Index</th>\n",
       "      <th></th>\n",
       "      <th></th>\n",
       "      <th></th>\n",
       "      <th></th>\n",
       "      <th></th>\n",
       "      <th></th>\n",
       "      <th></th>\n",
       "      <th></th>\n",
       "      <th></th>\n",
       "      <th></th>\n",
       "      <th></th>\n",
       "      <th></th>\n",
       "      <th></th>\n",
       "      <th></th>\n",
       "      <th></th>\n",
       "      <th></th>\n",
       "    </tr>\n",
       "  </thead>\n",
       "  <tbody>\n",
       "    <tr>\n",
       "      <th>1</th>\n",
       "      <td>5.0</td>\n",
       "      <td>67.0</td>\n",
       "      <td>lobular</td>\n",
       "      <td>spiculated</td>\n",
       "      <td>low</td>\n",
       "      <td>1</td>\n",
       "      <td>0</td>\n",
       "      <td>1</td>\n",
       "      <td>0</td>\n",
       "      <td>0</td>\n",
       "      <td>0</td>\n",
       "      <td>0</td>\n",
       "      <td>0</td>\n",
       "      <td>0</td>\n",
       "      <td>1</td>\n",
       "      <td>3</td>\n",
       "    </tr>\n",
       "    <tr>\n",
       "      <th>2</th>\n",
       "      <td>4.0</td>\n",
       "      <td>43.0</td>\n",
       "      <td>round</td>\n",
       "      <td>circumscribed</td>\n",
       "      <td>low</td>\n",
       "      <td>1</td>\n",
       "      <td>0</td>\n",
       "      <td>0</td>\n",
       "      <td>0</td>\n",
       "      <td>1</td>\n",
       "      <td>1</td>\n",
       "      <td>0</td>\n",
       "      <td>0</td>\n",
       "      <td>0</td>\n",
       "      <td>0</td>\n",
       "      <td>3</td>\n",
       "    </tr>\n",
       "    <tr>\n",
       "      <th>3</th>\n",
       "      <td>5.0</td>\n",
       "      <td>58.0</td>\n",
       "      <td>irregular</td>\n",
       "      <td>spiculated</td>\n",
       "      <td>low</td>\n",
       "      <td>1</td>\n",
       "      <td>1</td>\n",
       "      <td>0</td>\n",
       "      <td>0</td>\n",
       "      <td>0</td>\n",
       "      <td>0</td>\n",
       "      <td>0</td>\n",
       "      <td>0</td>\n",
       "      <td>0</td>\n",
       "      <td>1</td>\n",
       "      <td>3</td>\n",
       "    </tr>\n",
       "    <tr>\n",
       "      <th>4</th>\n",
       "      <td>4.0</td>\n",
       "      <td>28.0</td>\n",
       "      <td>round</td>\n",
       "      <td>circumscribed</td>\n",
       "      <td>low</td>\n",
       "      <td>0</td>\n",
       "      <td>0</td>\n",
       "      <td>0</td>\n",
       "      <td>0</td>\n",
       "      <td>1</td>\n",
       "      <td>1</td>\n",
       "      <td>0</td>\n",
       "      <td>0</td>\n",
       "      <td>0</td>\n",
       "      <td>0</td>\n",
       "      <td>3</td>\n",
       "    </tr>\n",
       "    <tr>\n",
       "      <th>5</th>\n",
       "      <td>5.0</td>\n",
       "      <td>74.0</td>\n",
       "      <td>round</td>\n",
       "      <td>spiculated</td>\n",
       "      <td>low</td>\n",
       "      <td>1</td>\n",
       "      <td>0</td>\n",
       "      <td>0</td>\n",
       "      <td>0</td>\n",
       "      <td>1</td>\n",
       "      <td>0</td>\n",
       "      <td>0</td>\n",
       "      <td>0</td>\n",
       "      <td>0</td>\n",
       "      <td>1</td>\n",
       "      <td>3</td>\n",
       "    </tr>\n",
       "  </tbody>\n",
       "</table>\n",
       "</div>"
      ],
      "text/plain": [
       "       BI_RADS   Age      Shape         Margin Mass_Density  Severity  \\\n",
       "Index                                                                   \n",
       "1          5.0  67.0    lobular     spiculated          low         1   \n",
       "2          4.0  43.0      round  circumscribed          low         1   \n",
       "3          5.0  58.0  irregular     spiculated          low         1   \n",
       "4          4.0  28.0      round  circumscribed          low         0   \n",
       "5          5.0  74.0      round     spiculated          low         1   \n",
       "\n",
       "       Shape_irregular  Shape_lobular  Shape_oval  Shape_round  \\\n",
       "Index                                                            \n",
       "1                    0              1           0            0   \n",
       "2                    0              0           0            1   \n",
       "3                    1              0           0            0   \n",
       "4                    0              0           0            1   \n",
       "5                    0              0           0            1   \n",
       "\n",
       "       Margin_circumscribed  Margin_ill-defined  Margin_microlobulated  \\\n",
       "Index                                                                    \n",
       "1                         0                   0                      0   \n",
       "2                         1                   0                      0   \n",
       "3                         0                   0                      0   \n",
       "4                         1                   0                      0   \n",
       "5                         0                   0                      0   \n",
       "\n",
       "       Margin_obscured  Margin_spiculated  Mass_Density_encode  \n",
       "Index                                                           \n",
       "1                    0                  1                    3  \n",
       "2                    0                  0                    3  \n",
       "3                    0                  1                    3  \n",
       "4                    0                  0                    3  \n",
       "5                    0                  1                    3  "
      ]
     },
     "execution_count": 34,
     "metadata": {},
     "output_type": "execute_result"
    }
   ],
   "source": [
    "train_df.head()"
   ]
  },
  {
   "cell_type": "markdown",
   "id": "37a384af",
   "metadata": {},
   "source": [
    "## EDA (Bi-varient analysis)"
   ]
  },
  {
   "cell_type": "code",
   "execution_count": 35,
   "id": "004b364c",
   "metadata": {
    "scrolled": false
   },
   "outputs": [
    {
     "data": {
      "image/png": "[encoded data removed]",
      "text/plain": [
       "<Figure size 648x432 with 1 Axes>"
      ]
     },
     "metadata": {
      "needs_background": "light"
     },
     "output_type": "display_data"
    }
   ],
   "source": [
    "plt.figure(figsize=(9,6))\n",
    "\n",
    "g = sns.barplot(train_df.groupby('Severity').size().index, train_df.groupby('Severity').size().values,palette=(\"rocket\"))\n",
    "datalable(g)\n",
    "plt.xlabel(\"Severity\")\n",
    "plt.ylabel(\"Users\");"
   ]
  },
  {
   "cell_type": "markdown",
   "id": "5d144db1",
   "metadata": {},
   "source": [
    "Note : Data is evenly distributed. No need of balancing."
   ]
  },
  {
   "cell_type": "markdown",
   "id": "f5cbf2f3",
   "metadata": {},
   "source": [
    "### 1. Shape vs Severity "
   ]
  },
  {
   "cell_type": "code",
   "execution_count": 36,
   "id": "3fa13347",
   "metadata": {},
   "outputs": [
    {
     "data": {
      "image/png": "[encoded data removed]",
      "text/plain": [
       "<Figure size 864x504 with 1 Axes>"
      ]
     },
     "metadata": {
      "needs_background": "light"
     },
     "output_type": "display_data"
    }
   ],
   "source": [
    "plt.figure(figsize=(12,7))\n",
    "\n",
    "g = sns.countplot(x=\"Severity\", hue=\"Shape\", data=train_df)\n",
    "datalable(g)\n",
    "plt.show()\n"
   ]
  },
  {
   "cell_type": "markdown",
   "id": "d68ba744",
   "metadata": {},
   "source": [
    "Note : Irregular shape indicated high chance of being malignant."
   ]
  },
  {
   "cell_type": "markdown",
   "id": "62a35e19",
   "metadata": {},
   "source": [
    "### 2. Margin vs Severity "
   ]
  },
  {
   "cell_type": "code",
   "execution_count": 37,
   "id": "3875c934",
   "metadata": {
    "scrolled": false
   },
   "outputs": [
    {
     "data": {
      "image/png": "[encoded data removed]",
      "text/plain": [
       "<Figure size 864x504 with 1 Axes>"
      ]
     },
     "metadata": {
      "needs_background": "light"
     },
     "output_type": "display_data"
    }
   ],
   "source": [
    "plt.figure(figsize=(12,7))\n",
    "\n",
    "g = sns.countplot(x=\"Severity\", hue=\"Margin\", data=train_df)\n",
    "datalable(g)\n",
    "plt.show()"
   ]
  },
  {
   "cell_type": "markdown",
   "id": "dbf968af",
   "metadata": {},
   "source": [
    "Note : Circumscribed margin indicates low chance of cancer, whereas ill-defined has high chances of being malignant."
   ]
  },
  {
   "cell_type": "markdown",
   "id": "108cc31e",
   "metadata": {},
   "source": [
    "### 3. Mass_Density vs Severity "
   ]
  },
  {
   "cell_type": "code",
   "execution_count": 38,
   "id": "54aaea61",
   "metadata": {},
   "outputs": [
    {
     "data": {
      "image/png": "[encoded data removed]",
      "text/plain": [
       "<Figure size 864x504 with 1 Axes>"
      ]
     },
     "metadata": {
      "needs_background": "light"
     },
     "output_type": "display_data"
    }
   ],
   "source": [
    "plt.figure(figsize=(12,7))\n",
    "\n",
    "g = sns.countplot(x=\"Severity\", hue=\"Mass_Density\", data=train_df)\n",
    "datalable(g)\n",
    "plt.show()"
   ]
  },
  {
   "cell_type": "markdown",
   "id": "215efdb2",
   "metadata": {},
   "source": [
    "### 4. Age vs Severity "
   ]
  },
  {
   "cell_type": "code",
   "execution_count": 39,
   "id": "9576c36c",
   "metadata": {},
   "outputs": [],
   "source": [
    "train_df['age_group'] = train_df.Age.apply (lambda age: 'Young' if 18<=age<=30 else \n",
    "                                          ('Adult' if 31<=age<=45 else \n",
    "                                           ('Senior' if 46<=age<=65 else 'Old')))"
   ]
  },
  {
   "cell_type": "code",
   "execution_count": 40,
   "id": "0255d078",
   "metadata": {},
   "outputs": [
    {
     "data": {
      "image/png": "[encoded data removed]",
      "text/plain": [
       "<Figure size 864x504 with 1 Axes>"
      ]
     },
     "metadata": {
      "needs_background": "light"
     },
     "output_type": "display_data"
    }
   ],
   "source": [
    "plt.figure(figsize=(12,7))\n",
    "\n",
    "g = sns.countplot(x=\"Severity\", hue=\"age_group\", data=train_df)\n",
    "datalable(g)\n",
    "plt.show()"
   ]
  },
  {
   "cell_type": "markdown",
   "id": "542e5d75",
   "metadata": {},
   "source": [
    "Note : Senior and old age group (46 and above) has high chance of getting malignant, whereas for young girls (18 to 30) has low chance of being malignant."
   ]
  },
  {
   "cell_type": "code",
   "execution_count": 41,
   "id": "8d14edcd",
   "metadata": {},
   "outputs": [
    {
     "data": {
      "text/html": [
       "<div>\n",
       "<style scoped>\n",
       "    .dataframe tbody tr th:only-of-type {\n",
       "        vertical-align: middle;\n",
       "    }\n",
       "\n",
       "    .dataframe tbody tr th {\n",
       "        vertical-align: top;\n",
       "    }\n",
       "\n",
       "    .dataframe thead th {\n",
       "        text-align: right;\n",
       "    }\n",
       "</style>\n",
       "<table border=\"1\" class=\"dataframe\">\n",
       "  <thead>\n",
       "    <tr style=\"text-align: right;\">\n",
       "      <th></th>\n",
       "      <th>BI_RADS</th>\n",
       "      <th>Age</th>\n",
       "      <th>Shape</th>\n",
       "      <th>Margin</th>\n",
       "      <th>Mass_Density</th>\n",
       "      <th>Severity</th>\n",
       "      <th>Shape_irregular</th>\n",
       "      <th>Shape_lobular</th>\n",
       "      <th>Shape_oval</th>\n",
       "      <th>Shape_round</th>\n",
       "      <th>Margin_circumscribed</th>\n",
       "      <th>Margin_ill-defined</th>\n",
       "      <th>Margin_microlobulated</th>\n",
       "      <th>Margin_obscured</th>\n",
       "      <th>Margin_spiculated</th>\n",
       "      <th>Mass_Density_encode</th>\n",
       "      <th>age_group</th>\n",
       "    </tr>\n",
       "    <tr>\n",
       "      <th>Index</th>\n",
       "      <th></th>\n",
       "      <th></th>\n",
       "      <th></th>\n",
       "      <th></th>\n",
       "      <th></th>\n",
       "      <th></th>\n",
       "      <th></th>\n",
       "      <th></th>\n",
       "      <th></th>\n",
       "      <th></th>\n",
       "      <th></th>\n",
       "      <th></th>\n",
       "      <th></th>\n",
       "      <th></th>\n",
       "      <th></th>\n",
       "      <th></th>\n",
       "      <th></th>\n",
       "    </tr>\n",
       "  </thead>\n",
       "  <tbody>\n",
       "    <tr>\n",
       "      <th>1</th>\n",
       "      <td>5.0</td>\n",
       "      <td>67.0</td>\n",
       "      <td>lobular</td>\n",
       "      <td>spiculated</td>\n",
       "      <td>low</td>\n",
       "      <td>1</td>\n",
       "      <td>0</td>\n",
       "      <td>1</td>\n",
       "      <td>0</td>\n",
       "      <td>0</td>\n",
       "      <td>0</td>\n",
       "      <td>0</td>\n",
       "      <td>0</td>\n",
       "      <td>0</td>\n",
       "      <td>1</td>\n",
       "      <td>3</td>\n",
       "      <td>Old</td>\n",
       "    </tr>\n",
       "    <tr>\n",
       "      <th>2</th>\n",
       "      <td>4.0</td>\n",
       "      <td>43.0</td>\n",
       "      <td>round</td>\n",
       "      <td>circumscribed</td>\n",
       "      <td>low</td>\n",
       "      <td>1</td>\n",
       "      <td>0</td>\n",
       "      <td>0</td>\n",
       "      <td>0</td>\n",
       "      <td>1</td>\n",
       "      <td>1</td>\n",
       "      <td>0</td>\n",
       "      <td>0</td>\n",
       "      <td>0</td>\n",
       "      <td>0</td>\n",
       "      <td>3</td>\n",
       "      <td>Adult</td>\n",
       "    </tr>\n",
       "    <tr>\n",
       "      <th>3</th>\n",
       "      <td>5.0</td>\n",
       "      <td>58.0</td>\n",
       "      <td>irregular</td>\n",
       "      <td>spiculated</td>\n",
       "      <td>low</td>\n",
       "      <td>1</td>\n",
       "      <td>1</td>\n",
       "      <td>0</td>\n",
       "      <td>0</td>\n",
       "      <td>0</td>\n",
       "      <td>0</td>\n",
       "      <td>0</td>\n",
       "      <td>0</td>\n",
       "      <td>0</td>\n",
       "      <td>1</td>\n",
       "      <td>3</td>\n",
       "      <td>Senior</td>\n",
       "    </tr>\n",
       "    <tr>\n",
       "      <th>4</th>\n",
       "      <td>4.0</td>\n",
       "      <td>28.0</td>\n",
       "      <td>round</td>\n",
       "      <td>circumscribed</td>\n",
       "      <td>low</td>\n",
       "      <td>0</td>\n",
       "      <td>0</td>\n",
       "      <td>0</td>\n",
       "      <td>0</td>\n",
       "      <td>1</td>\n",
       "      <td>1</td>\n",
       "      <td>0</td>\n",
       "      <td>0</td>\n",
       "      <td>0</td>\n",
       "      <td>0</td>\n",
       "      <td>3</td>\n",
       "      <td>Young</td>\n",
       "    </tr>\n",
       "    <tr>\n",
       "      <th>5</th>\n",
       "      <td>5.0</td>\n",
       "      <td>74.0</td>\n",
       "      <td>round</td>\n",
       "      <td>spiculated</td>\n",
       "      <td>low</td>\n",
       "      <td>1</td>\n",
       "      <td>0</td>\n",
       "      <td>0</td>\n",
       "      <td>0</td>\n",
       "      <td>1</td>\n",
       "      <td>0</td>\n",
       "      <td>0</td>\n",
       "      <td>0</td>\n",
       "      <td>0</td>\n",
       "      <td>1</td>\n",
       "      <td>3</td>\n",
       "      <td>Old</td>\n",
       "    </tr>\n",
       "  </tbody>\n",
       "</table>\n",
       "</div>"
      ],
      "text/plain": [
       "       BI_RADS   Age      Shape         Margin Mass_Density  Severity  \\\n",
       "Index                                                                   \n",
       "1          5.0  67.0    lobular     spiculated          low         1   \n",
       "2          4.0  43.0      round  circumscribed          low         1   \n",
       "3          5.0  58.0  irregular     spiculated          low         1   \n",
       "4          4.0  28.0      round  circumscribed          low         0   \n",
       "5          5.0  74.0      round     spiculated          low         1   \n",
       "\n",
       "       Shape_irregular  Shape_lobular  Shape_oval  Shape_round  \\\n",
       "Index                                                            \n",
       "1                    0              1           0            0   \n",
       "2                    0              0           0            1   \n",
       "3                    1              0           0            0   \n",
       "4                    0              0           0            1   \n",
       "5                    0              0           0            1   \n",
       "\n",
       "       Margin_circumscribed  Margin_ill-defined  Margin_microlobulated  \\\n",
       "Index                                                                    \n",
       "1                         0                   0                      0   \n",
       "2                         1                   0                      0   \n",
       "3                         0                   0                      0   \n",
       "4                         1                   0                      0   \n",
       "5                         0                   0                      0   \n",
       "\n",
       "       Margin_obscured  Margin_spiculated  Mass_Density_encode age_group  \n",
       "Index                                                                     \n",
       "1                    0                  1                    3       Old  \n",
       "2                    0                  0                    3     Adult  \n",
       "3                    0                  1                    3    Senior  \n",
       "4                    0                  0                    3     Young  \n",
       "5                    0                  1                    3       Old  "
      ]
     },
     "execution_count": 41,
     "metadata": {},
     "output_type": "execute_result"
    }
   ],
   "source": [
    "train_df.head()"
   ]
  },
  {
   "cell_type": "markdown",
   "id": "a5ac47a4",
   "metadata": {},
   "source": [
    "## Pre-processing on Test dataset"
   ]
  },
  {
   "cell_type": "code",
   "execution_count": 42,
   "id": "fe486ed6",
   "metadata": {},
   "outputs": [
    {
     "data": {
      "text/html": [
       "<div>\n",
       "<style scoped>\n",
       "    .dataframe tbody tr th:only-of-type {\n",
       "        vertical-align: middle;\n",
       "    }\n",
       "\n",
       "    .dataframe tbody tr th {\n",
       "        vertical-align: top;\n",
       "    }\n",
       "\n",
       "    .dataframe thead th {\n",
       "        text-align: right;\n",
       "    }\n",
       "</style>\n",
       "<table border=\"1\" class=\"dataframe\">\n",
       "  <thead>\n",
       "    <tr style=\"text-align: right;\">\n",
       "      <th></th>\n",
       "      <th>BI_RADS</th>\n",
       "      <th>Age</th>\n",
       "      <th>Shape</th>\n",
       "      <th>Margin</th>\n",
       "      <th>Mass_Density</th>\n",
       "      <th>Severity</th>\n",
       "    </tr>\n",
       "    <tr>\n",
       "      <th>Index</th>\n",
       "      <th></th>\n",
       "      <th></th>\n",
       "      <th></th>\n",
       "      <th></th>\n",
       "      <th></th>\n",
       "      <th></th>\n",
       "    </tr>\n",
       "  </thead>\n",
       "  <tbody>\n",
       "    <tr>\n",
       "      <th>1</th>\n",
       "      <td>5</td>\n",
       "      <td>65.0</td>\n",
       "      <td>lobular</td>\n",
       "      <td>ill-defined</td>\n",
       "      <td>low</td>\n",
       "      <td>1</td>\n",
       "    </tr>\n",
       "    <tr>\n",
       "      <th>2</th>\n",
       "      <td>5</td>\n",
       "      <td>74.0</td>\n",
       "      <td>lobular</td>\n",
       "      <td>microlobulated</td>\n",
       "      <td>low</td>\n",
       "      <td>1</td>\n",
       "    </tr>\n",
       "    <tr>\n",
       "      <th>3</th>\n",
       "      <td>4</td>\n",
       "      <td>NaN</td>\n",
       "      <td>oval</td>\n",
       "      <td>circumscribed</td>\n",
       "      <td>low</td>\n",
       "      <td>0</td>\n",
       "    </tr>\n",
       "    <tr>\n",
       "      <th>4</th>\n",
       "      <td>4</td>\n",
       "      <td>57.0</td>\n",
       "      <td>irregular</td>\n",
       "      <td>ill-defined</td>\n",
       "      <td>fat-containing</td>\n",
       "      <td>1</td>\n",
       "    </tr>\n",
       "    <tr>\n",
       "      <th>5</th>\n",
       "      <td>4</td>\n",
       "      <td>76.0</td>\n",
       "      <td>lobular</td>\n",
       "      <td>microlobulated</td>\n",
       "      <td>low</td>\n",
       "      <td>0</td>\n",
       "    </tr>\n",
       "  </tbody>\n",
       "</table>\n",
       "</div>"
      ],
      "text/plain": [
       "       BI_RADS   Age      Shape          Margin    Mass_Density  Severity\n",
       "Index                                                                    \n",
       "1            5  65.0    lobular     ill-defined             low         1\n",
       "2            5  74.0    lobular  microlobulated             low         1\n",
       "3            4   NaN       oval   circumscribed             low         0\n",
       "4            4  57.0  irregular     ill-defined  fat-containing         1\n",
       "5            4  76.0    lobular  microlobulated             low         0"
      ]
     },
     "execution_count": 42,
     "metadata": {},
     "output_type": "execute_result"
    }
   ],
   "source": [
    "test_df.head()"
   ]
  },
  {
   "cell_type": "code",
   "execution_count": 43,
   "id": "07f632d4",
   "metadata": {},
   "outputs": [
    {
     "name": "stdout",
     "output_type": "stream",
     "text": [
      "<class 'pandas.core.frame.DataFrame'>\n",
      "Int64Index: 150 entries, 1 to 150\n",
      "Data columns (total 6 columns):\n",
      " #   Column        Non-Null Count  Dtype  \n",
      "---  ------        --------------  -----  \n",
      " 0   BI_RADS       150 non-null    int64  \n",
      " 1   Age           138 non-null    float64\n",
      " 2   Shape         149 non-null    object \n",
      " 3   Margin        149 non-null    object \n",
      " 4   Mass_Density  150 non-null    object \n",
      " 5   Severity      150 non-null    int64  \n",
      "dtypes: float64(1), int64(2), object(3)\n",
      "memory usage: 8.2+ KB\n"
     ]
    }
   ],
   "source": [
    "test_df.info()"
   ]
  },
  {
   "cell_type": "code",
   "execution_count": 44,
   "id": "3bf64f69",
   "metadata": {},
   "outputs": [
    {
     "data": {
      "text/plain": [
       "(150, 6)"
      ]
     },
     "execution_count": 44,
     "metadata": {},
     "output_type": "execute_result"
    }
   ],
   "source": [
    "test_df.shape"
   ]
  },
  {
   "cell_type": "code",
   "execution_count": 45,
   "id": "4c60f58b",
   "metadata": {},
   "outputs": [
    {
     "data": {
      "text/html": [
       "<div>\n",
       "<style scoped>\n",
       "    .dataframe tbody tr th:only-of-type {\n",
       "        vertical-align: middle;\n",
       "    }\n",
       "\n",
       "    .dataframe tbody tr th {\n",
       "        vertical-align: top;\n",
       "    }\n",
       "\n",
       "    .dataframe thead th {\n",
       "        text-align: right;\n",
       "    }\n",
       "</style>\n",
       "<table border=\"1\" class=\"dataframe\">\n",
       "  <thead>\n",
       "    <tr style=\"text-align: right;\">\n",
       "      <th></th>\n",
       "      <th>BI_RADS</th>\n",
       "      <th>Age</th>\n",
       "      <th>Severity</th>\n",
       "    </tr>\n",
       "  </thead>\n",
       "  <tbody>\n",
       "    <tr>\n",
       "      <th>count</th>\n",
       "      <td>150.000000</td>\n",
       "      <td>138.000000</td>\n",
       "      <td>150.000000</td>\n",
       "    </tr>\n",
       "    <tr>\n",
       "      <th>mean</th>\n",
       "      <td>4.180000</td>\n",
       "      <td>55.717391</td>\n",
       "      <td>0.480000</td>\n",
       "    </tr>\n",
       "    <tr>\n",
       "      <th>std</th>\n",
       "      <td>0.724175</td>\n",
       "      <td>17.460274</td>\n",
       "      <td>0.501274</td>\n",
       "    </tr>\n",
       "    <tr>\n",
       "      <th>min</th>\n",
       "      <td>0.000000</td>\n",
       "      <td>19.000000</td>\n",
       "      <td>0.000000</td>\n",
       "    </tr>\n",
       "    <tr>\n",
       "      <th>25%</th>\n",
       "      <td>4.000000</td>\n",
       "      <td>45.000000</td>\n",
       "      <td>0.000000</td>\n",
       "    </tr>\n",
       "    <tr>\n",
       "      <th>50%</th>\n",
       "      <td>4.000000</td>\n",
       "      <td>56.000000</td>\n",
       "      <td>0.000000</td>\n",
       "    </tr>\n",
       "    <tr>\n",
       "      <th>75%</th>\n",
       "      <td>4.000000</td>\n",
       "      <td>65.000000</td>\n",
       "      <td>1.000000</td>\n",
       "    </tr>\n",
       "    <tr>\n",
       "      <th>max</th>\n",
       "      <td>6.000000</td>\n",
       "      <td>130.000000</td>\n",
       "      <td>1.000000</td>\n",
       "    </tr>\n",
       "  </tbody>\n",
       "</table>\n",
       "</div>"
      ],
      "text/plain": [
       "          BI_RADS         Age    Severity\n",
       "count  150.000000  138.000000  150.000000\n",
       "mean     4.180000   55.717391    0.480000\n",
       "std      0.724175   17.460274    0.501274\n",
       "min      0.000000   19.000000    0.000000\n",
       "25%      4.000000   45.000000    0.000000\n",
       "50%      4.000000   56.000000    0.000000\n",
       "75%      4.000000   65.000000    1.000000\n",
       "max      6.000000  130.000000    1.000000"
      ]
     },
     "execution_count": 45,
     "metadata": {},
     "output_type": "execute_result"
    }
   ],
   "source": [
    "test_df.describe()"
   ]
  },
  {
   "cell_type": "markdown",
   "id": "3fa22972",
   "metadata": {},
   "source": [
    "## BI_RADS"
   ]
  },
  {
   "cell_type": "code",
   "execution_count": 46,
   "id": "710b4d0f",
   "metadata": {},
   "outputs": [
    {
     "data": {
      "text/plain": [
       "Age             8.00\n",
       "Shape           0.67\n",
       "Margin          0.67\n",
       "BI_RADS         0.00\n",
       "Mass_Density    0.00\n",
       "Severity        0.00\n",
       "dtype: float64"
      ]
     },
     "execution_count": 46,
     "metadata": {},
     "output_type": "execute_result"
    }
   ],
   "source": [
    "#percentage of missing data \n",
    "round(100*(test_df.isnull().sum()/len(test_df.index)), 2).sort_values(ascending=False)"
   ]
  },
  {
   "cell_type": "code",
   "execution_count": 47,
   "id": "7d57c16c",
   "metadata": {
    "scrolled": false
   },
   "outputs": [
    {
     "data": {
      "text/plain": [
       "4    109\n",
       "5     33\n",
       "6      3\n",
       "0      2\n",
       "3      2\n",
       "2      1\n",
       "Name: BI_RADS, dtype: int64"
      ]
     },
     "execution_count": 47,
     "metadata": {},
     "output_type": "execute_result"
    }
   ],
   "source": [
    "test_df.BI_RADS.value_counts()"
   ]
  },
  {
   "cell_type": "code",
   "execution_count": 48,
   "id": "ff87383f",
   "metadata": {},
   "outputs": [],
   "source": [
    "test_df = test_df[(test_df['BI_RADS'] >= 1) & (test_df['BI_RADS'] <= 5)]"
   ]
  },
  {
   "cell_type": "code",
   "execution_count": 49,
   "id": "73fa787c",
   "metadata": {},
   "outputs": [
    {
     "data": {
      "text/plain": [
       "4    109\n",
       "5     33\n",
       "3      2\n",
       "2      1\n",
       "Name: BI_RADS, dtype: int64"
      ]
     },
     "execution_count": 49,
     "metadata": {},
     "output_type": "execute_result"
    }
   ],
   "source": [
    "test_df.BI_RADS.value_counts()"
   ]
  },
  {
   "cell_type": "code",
   "execution_count": 50,
   "id": "a7abbb65",
   "metadata": {
    "scrolled": true
   },
   "outputs": [
    {
     "data": {
      "text/plain": [
       "(145, 6)"
      ]
     },
     "execution_count": 50,
     "metadata": {},
     "output_type": "execute_result"
    }
   ],
   "source": [
    "test_df.shape"
   ]
  },
  {
   "cell_type": "markdown",
   "id": "72d15136",
   "metadata": {},
   "source": [
    "## Age"
   ]
  },
  {
   "cell_type": "code",
   "execution_count": 51,
   "id": "29107819",
   "metadata": {},
   "outputs": [
    {
     "data": {
      "image/png": "[encoded data removed]",
      "text/plain": [
       "<Figure size 864x504 with 1 Axes>"
      ]
     },
     "metadata": {
      "needs_background": "light"
     },
     "output_type": "display_data"
    }
   ],
   "source": [
    "plt.figure(figsize=(12,7))\n",
    "\n",
    "g = sns.barplot(test_df.groupby('Age').size().sort_values(ascending=False).index, \n",
    "                test_df.groupby('Age').size().sort_values(ascending=False).values,palette=(\"rocket\"))\n",
    "datalable(g)\n",
    "plt.xlabel(\"Age\")\n",
    "plt.ylabel(\"Users\")\n",
    "plt.xticks(rotation=90);"
   ]
  },
  {
   "cell_type": "code",
   "execution_count": 52,
   "id": "c513ed2f",
   "metadata": {},
   "outputs": [
    {
     "data": {
      "text/plain": [
       "count    133.000000\n",
       "mean      55.789474\n",
       "std       17.556857\n",
       "min       19.000000\n",
       "25%       46.000000\n",
       "50%       56.000000\n",
       "75%       65.000000\n",
       "max      130.000000\n",
       "Name: Age, dtype: float64"
      ]
     },
     "execution_count": 52,
     "metadata": {},
     "output_type": "execute_result"
    }
   ],
   "source": [
    "test_df.Age.describe()"
   ]
  },
  {
   "cell_type": "code",
   "execution_count": 53,
   "id": "addfc742",
   "metadata": {},
   "outputs": [
    {
     "data": {
      "text/plain": [
       "0    57.0\n",
       "dtype: float64"
      ]
     },
     "execution_count": 53,
     "metadata": {},
     "output_type": "execute_result"
    }
   ],
   "source": [
    "test_df.Age.mode()"
   ]
  },
  {
   "cell_type": "code",
   "execution_count": 54,
   "id": "efca5e90",
   "metadata": {},
   "outputs": [],
   "source": [
    "# Replace null value with MODE \n",
    "test_df.Age.fillna(value=test_df.Age.mode()[0], inplace=True)"
   ]
  },
  {
   "cell_type": "code",
   "execution_count": 55,
   "id": "febb3f48",
   "metadata": {},
   "outputs": [
    {
     "data": {
      "text/plain": [
       "(145, 6)"
      ]
     },
     "execution_count": 55,
     "metadata": {},
     "output_type": "execute_result"
    }
   ],
   "source": [
    "test_df.shape"
   ]
  },
  {
   "cell_type": "code",
   "execution_count": 56,
   "id": "1af4ecef",
   "metadata": {},
   "outputs": [],
   "source": [
    "test_df = test_df[(test_df['Age'] >= 18) & (test_df['Age'] <= 96)]"
   ]
  },
  {
   "cell_type": "code",
   "execution_count": 57,
   "id": "7120a813",
   "metadata": {},
   "outputs": [
    {
     "data": {
      "text/plain": [
       "(142, 6)"
      ]
     },
     "execution_count": 57,
     "metadata": {},
     "output_type": "execute_result"
    }
   ],
   "source": [
    "test_df.shape"
   ]
  },
  {
   "cell_type": "code",
   "execution_count": 58,
   "id": "63024b02",
   "metadata": {},
   "outputs": [
    {
     "name": "stdout",
     "output_type": "stream",
     "text": [
      "<class 'pandas.core.frame.DataFrame'>\n",
      "Int64Index: 142 entries, 1 to 150\n",
      "Data columns (total 6 columns):\n",
      " #   Column        Non-Null Count  Dtype  \n",
      "---  ------        --------------  -----  \n",
      " 0   BI_RADS       142 non-null    int64  \n",
      " 1   Age           142 non-null    float64\n",
      " 2   Shape         142 non-null    object \n",
      " 3   Margin        141 non-null    object \n",
      " 4   Mass_Density  142 non-null    object \n",
      " 5   Severity      142 non-null    int64  \n",
      "dtypes: float64(1), int64(2), object(3)\n",
      "memory usage: 7.8+ KB\n"
     ]
    }
   ],
   "source": [
    "test_df.info()"
   ]
  },
  {
   "cell_type": "markdown",
   "id": "e3c1833e",
   "metadata": {},
   "source": [
    "## Shape"
   ]
  },
  {
   "cell_type": "code",
   "execution_count": 59,
   "id": "90edf93d",
   "metadata": {
    "scrolled": true
   },
   "outputs": [
    {
     "data": {
      "text/plain": [
       "irregular    56\n",
       "oval         32\n",
       "round        32\n",
       "lobular      22\n",
       "Name: Shape, dtype: int64"
      ]
     },
     "execution_count": 59,
     "metadata": {},
     "output_type": "execute_result"
    }
   ],
   "source": [
    "test_df.Shape.value_counts()"
   ]
  },
  {
   "cell_type": "code",
   "execution_count": 60,
   "id": "5f1a0845",
   "metadata": {},
   "outputs": [],
   "source": [
    "test_df = pd.concat([test_df,pd.get_dummies(test_df['Shape'], prefix='Shape')],axis=1)\n",
    "test_df.drop(['Shape'],axis=1, inplace=True)"
   ]
  },
  {
   "cell_type": "code",
   "execution_count": 61,
   "id": "0a1fd32d",
   "metadata": {
    "scrolled": true
   },
   "outputs": [
    {
     "data": {
      "text/html": [
       "<div>\n",
       "<style scoped>\n",
       "    .dataframe tbody tr th:only-of-type {\n",
       "        vertical-align: middle;\n",
       "    }\n",
       "\n",
       "    .dataframe tbody tr th {\n",
       "        vertical-align: top;\n",
       "    }\n",
       "\n",
       "    .dataframe thead th {\n",
       "        text-align: right;\n",
       "    }\n",
       "</style>\n",
       "<table border=\"1\" class=\"dataframe\">\n",
       "  <thead>\n",
       "    <tr style=\"text-align: right;\">\n",
       "      <th></th>\n",
       "      <th>BI_RADS</th>\n",
       "      <th>Age</th>\n",
       "      <th>Margin</th>\n",
       "      <th>Mass_Density</th>\n",
       "      <th>Severity</th>\n",
       "      <th>Shape_irregular</th>\n",
       "      <th>Shape_lobular</th>\n",
       "      <th>Shape_oval</th>\n",
       "      <th>Shape_round</th>\n",
       "    </tr>\n",
       "    <tr>\n",
       "      <th>Index</th>\n",
       "      <th></th>\n",
       "      <th></th>\n",
       "      <th></th>\n",
       "      <th></th>\n",
       "      <th></th>\n",
       "      <th></th>\n",
       "      <th></th>\n",
       "      <th></th>\n",
       "      <th></th>\n",
       "    </tr>\n",
       "  </thead>\n",
       "  <tbody>\n",
       "    <tr>\n",
       "      <th>1</th>\n",
       "      <td>5</td>\n",
       "      <td>65.0</td>\n",
       "      <td>ill-defined</td>\n",
       "      <td>low</td>\n",
       "      <td>1</td>\n",
       "      <td>0</td>\n",
       "      <td>1</td>\n",
       "      <td>0</td>\n",
       "      <td>0</td>\n",
       "    </tr>\n",
       "    <tr>\n",
       "      <th>2</th>\n",
       "      <td>5</td>\n",
       "      <td>74.0</td>\n",
       "      <td>microlobulated</td>\n",
       "      <td>low</td>\n",
       "      <td>1</td>\n",
       "      <td>0</td>\n",
       "      <td>1</td>\n",
       "      <td>0</td>\n",
       "      <td>0</td>\n",
       "    </tr>\n",
       "    <tr>\n",
       "      <th>3</th>\n",
       "      <td>4</td>\n",
       "      <td>57.0</td>\n",
       "      <td>circumscribed</td>\n",
       "      <td>low</td>\n",
       "      <td>0</td>\n",
       "      <td>0</td>\n",
       "      <td>0</td>\n",
       "      <td>1</td>\n",
       "      <td>0</td>\n",
       "    </tr>\n",
       "    <tr>\n",
       "      <th>4</th>\n",
       "      <td>4</td>\n",
       "      <td>57.0</td>\n",
       "      <td>ill-defined</td>\n",
       "      <td>fat-containing</td>\n",
       "      <td>1</td>\n",
       "      <td>1</td>\n",
       "      <td>0</td>\n",
       "      <td>0</td>\n",
       "      <td>0</td>\n",
       "    </tr>\n",
       "    <tr>\n",
       "      <th>5</th>\n",
       "      <td>4</td>\n",
       "      <td>76.0</td>\n",
       "      <td>microlobulated</td>\n",
       "      <td>low</td>\n",
       "      <td>0</td>\n",
       "      <td>0</td>\n",
       "      <td>1</td>\n",
       "      <td>0</td>\n",
       "      <td>0</td>\n",
       "    </tr>\n",
       "  </tbody>\n",
       "</table>\n",
       "</div>"
      ],
      "text/plain": [
       "       BI_RADS   Age          Margin    Mass_Density  Severity  \\\n",
       "Index                                                            \n",
       "1            5  65.0     ill-defined             low         1   \n",
       "2            5  74.0  microlobulated             low         1   \n",
       "3            4  57.0   circumscribed             low         0   \n",
       "4            4  57.0     ill-defined  fat-containing         1   \n",
       "5            4  76.0  microlobulated             low         0   \n",
       "\n",
       "       Shape_irregular  Shape_lobular  Shape_oval  Shape_round  \n",
       "Index                                                           \n",
       "1                    0              1           0            0  \n",
       "2                    0              1           0            0  \n",
       "3                    0              0           1            0  \n",
       "4                    1              0           0            0  \n",
       "5                    0              1           0            0  "
      ]
     },
     "execution_count": 61,
     "metadata": {},
     "output_type": "execute_result"
    }
   ],
   "source": [
    "test_df.head()"
   ]
  },
  {
   "cell_type": "markdown",
   "id": "3b1fb08a",
   "metadata": {},
   "source": [
    "## Margin"
   ]
  },
  {
   "cell_type": "code",
   "execution_count": 62,
   "id": "52cd668e",
   "metadata": {
    "scrolled": true
   },
   "outputs": [
    {
     "data": {
      "text/plain": [
       "circumscribed     58\n",
       "ill-defined       41\n",
       "spiculated        20\n",
       "obscured          15\n",
       "microlobulated     7\n",
       "Name: Margin, dtype: int64"
      ]
     },
     "execution_count": 62,
     "metadata": {},
     "output_type": "execute_result"
    }
   ],
   "source": [
    "test_df.Margin.value_counts()"
   ]
  },
  {
   "cell_type": "code",
   "execution_count": 63,
   "id": "1b531027",
   "metadata": {},
   "outputs": [],
   "source": [
    "# Replace null value with MODE \n",
    "test_df.Margin.fillna(value=test_df.Margin.mode()[0], inplace=True)"
   ]
  },
  {
   "cell_type": "code",
   "execution_count": 64,
   "id": "e174aaca",
   "metadata": {},
   "outputs": [
    {
     "data": {
      "text/plain": [
       "BI_RADS            0.0\n",
       "Age                0.0\n",
       "Margin             0.0\n",
       "Mass_Density       0.0\n",
       "Severity           0.0\n",
       "Shape_irregular    0.0\n",
       "Shape_lobular      0.0\n",
       "Shape_oval         0.0\n",
       "Shape_round        0.0\n",
       "dtype: float64"
      ]
     },
     "execution_count": 64,
     "metadata": {},
     "output_type": "execute_result"
    }
   ],
   "source": [
    "#percentage of missing data \n",
    "round(100*(test_df.isnull().sum()/len(test_df.index)), 2).sort_values(ascending=False)"
   ]
  },
  {
   "cell_type": "code",
   "execution_count": 65,
   "id": "d9d4da9f",
   "metadata": {},
   "outputs": [],
   "source": [
    "test_df = pd.concat([test_df,pd.get_dummies(test_df['Margin'], prefix='Margin')],axis=1)\n",
    "test_df.drop(['Margin'],axis=1, inplace=True)"
   ]
  },
  {
   "cell_type": "code",
   "execution_count": 66,
   "id": "0d5a3edf",
   "metadata": {
    "scrolled": true
   },
   "outputs": [
    {
     "data": {
      "text/html": [
       "<div>\n",
       "<style scoped>\n",
       "    .dataframe tbody tr th:only-of-type {\n",
       "        vertical-align: middle;\n",
       "    }\n",
       "\n",
       "    .dataframe tbody tr th {\n",
       "        vertical-align: top;\n",
       "    }\n",
       "\n",
       "    .dataframe thead th {\n",
       "        text-align: right;\n",
       "    }\n",
       "</style>\n",
       "<table border=\"1\" class=\"dataframe\">\n",
       "  <thead>\n",
       "    <tr style=\"text-align: right;\">\n",
       "      <th></th>\n",
       "      <th>BI_RADS</th>\n",
       "      <th>Age</th>\n",
       "      <th>Mass_Density</th>\n",
       "      <th>Severity</th>\n",
       "      <th>Shape_irregular</th>\n",
       "      <th>Shape_lobular</th>\n",
       "      <th>Shape_oval</th>\n",
       "      <th>Shape_round</th>\n",
       "      <th>Margin_circumscribed</th>\n",
       "      <th>Margin_ill-defined</th>\n",
       "      <th>Margin_microlobulated</th>\n",
       "      <th>Margin_obscured</th>\n",
       "      <th>Margin_spiculated</th>\n",
       "    </tr>\n",
       "    <tr>\n",
       "      <th>Index</th>\n",
       "      <th></th>\n",
       "      <th></th>\n",
       "      <th></th>\n",
       "      <th></th>\n",
       "      <th></th>\n",
       "      <th></th>\n",
       "      <th></th>\n",
       "      <th></th>\n",
       "      <th></th>\n",
       "      <th></th>\n",
       "      <th></th>\n",
       "      <th></th>\n",
       "      <th></th>\n",
       "    </tr>\n",
       "  </thead>\n",
       "  <tbody>\n",
       "    <tr>\n",
       "      <th>1</th>\n",
       "      <td>5</td>\n",
       "      <td>65.0</td>\n",
       "      <td>low</td>\n",
       "      <td>1</td>\n",
       "      <td>0</td>\n",
       "      <td>1</td>\n",
       "      <td>0</td>\n",
       "      <td>0</td>\n",
       "      <td>0</td>\n",
       "      <td>1</td>\n",
       "      <td>0</td>\n",
       "      <td>0</td>\n",
       "      <td>0</td>\n",
       "    </tr>\n",
       "    <tr>\n",
       "      <th>2</th>\n",
       "      <td>5</td>\n",
       "      <td>74.0</td>\n",
       "      <td>low</td>\n",
       "      <td>1</td>\n",
       "      <td>0</td>\n",
       "      <td>1</td>\n",
       "      <td>0</td>\n",
       "      <td>0</td>\n",
       "      <td>0</td>\n",
       "      <td>0</td>\n",
       "      <td>1</td>\n",
       "      <td>0</td>\n",
       "      <td>0</td>\n",
       "    </tr>\n",
       "    <tr>\n",
       "      <th>3</th>\n",
       "      <td>4</td>\n",
       "      <td>57.0</td>\n",
       "      <td>low</td>\n",
       "      <td>0</td>\n",
       "      <td>0</td>\n",
       "      <td>0</td>\n",
       "      <td>1</td>\n",
       "      <td>0</td>\n",
       "      <td>1</td>\n",
       "      <td>0</td>\n",
       "      <td>0</td>\n",
       "      <td>0</td>\n",
       "      <td>0</td>\n",
       "    </tr>\n",
       "    <tr>\n",
       "      <th>4</th>\n",
       "      <td>4</td>\n",
       "      <td>57.0</td>\n",
       "      <td>fat-containing</td>\n",
       "      <td>1</td>\n",
       "      <td>1</td>\n",
       "      <td>0</td>\n",
       "      <td>0</td>\n",
       "      <td>0</td>\n",
       "      <td>0</td>\n",
       "      <td>1</td>\n",
       "      <td>0</td>\n",
       "      <td>0</td>\n",
       "      <td>0</td>\n",
       "    </tr>\n",
       "    <tr>\n",
       "      <th>5</th>\n",
       "      <td>4</td>\n",
       "      <td>76.0</td>\n",
       "      <td>low</td>\n",
       "      <td>0</td>\n",
       "      <td>0</td>\n",
       "      <td>1</td>\n",
       "      <td>0</td>\n",
       "      <td>0</td>\n",
       "      <td>0</td>\n",
       "      <td>0</td>\n",
       "      <td>1</td>\n",
       "      <td>0</td>\n",
       "      <td>0</td>\n",
       "    </tr>\n",
       "  </tbody>\n",
       "</table>\n",
       "</div>"
      ],
      "text/plain": [
       "       BI_RADS   Age    Mass_Density  Severity  Shape_irregular  \\\n",
       "Index                                                             \n",
       "1            5  65.0             low         1                0   \n",
       "2            5  74.0             low         1                0   \n",
       "3            4  57.0             low         0                0   \n",
       "4            4  57.0  fat-containing         1                1   \n",
       "5            4  76.0             low         0                0   \n",
       "\n",
       "       Shape_lobular  Shape_oval  Shape_round  Margin_circumscribed  \\\n",
       "Index                                                                 \n",
       "1                  1           0            0                     0   \n",
       "2                  1           0            0                     0   \n",
       "3                  0           1            0                     1   \n",
       "4                  0           0            0                     0   \n",
       "5                  1           0            0                     0   \n",
       "\n",
       "       Margin_ill-defined  Margin_microlobulated  Margin_obscured  \\\n",
       "Index                                                               \n",
       "1                       1                      0                0   \n",
       "2                       0                      1                0   \n",
       "3                       0                      0                0   \n",
       "4                       1                      0                0   \n",
       "5                       0                      1                0   \n",
       "\n",
       "       Margin_spiculated  \n",
       "Index                     \n",
       "1                      0  \n",
       "2                      0  \n",
       "3                      0  \n",
       "4                      0  \n",
       "5                      0  "
      ]
     },
     "execution_count": 66,
     "metadata": {},
     "output_type": "execute_result"
    }
   ],
   "source": [
    "test_df.head()"
   ]
  },
  {
   "cell_type": "markdown",
   "id": "240753af",
   "metadata": {},
   "source": [
    "## Mass_Density"
   ]
  },
  {
   "cell_type": "code",
   "execution_count": 67,
   "id": "cab9cab2",
   "metadata": {},
   "outputs": [
    {
     "data": {
      "text/plain": [
       "low               129\n",
       "iso                 9\n",
       "high                3\n",
       "fat-containing      1\n",
       "Name: Mass_Density, dtype: int64"
      ]
     },
     "execution_count": 67,
     "metadata": {},
     "output_type": "execute_result"
    }
   ],
   "source": [
    "test_df.Mass_Density.value_counts()"
   ]
  },
  {
   "cell_type": "code",
   "execution_count": 68,
   "id": "d76b01b2",
   "metadata": {
    "scrolled": true
   },
   "outputs": [],
   "source": [
    "test_df['Mass_Density_encode'] = test_df['Mass_Density'].map({'high':1, 'iso':2, 'low':3, 'fat-containing':4})\n",
    "test_df.drop(['Mass_Density'],axis=1, inplace=True)"
   ]
  },
  {
   "cell_type": "code",
   "execution_count": 69,
   "id": "d399b234",
   "metadata": {
    "scrolled": true
   },
   "outputs": [
    {
     "data": {
      "text/html": [
       "<div>\n",
       "<style scoped>\n",
       "    .dataframe tbody tr th:only-of-type {\n",
       "        vertical-align: middle;\n",
       "    }\n",
       "\n",
       "    .dataframe tbody tr th {\n",
       "        vertical-align: top;\n",
       "    }\n",
       "\n",
       "    .dataframe thead th {\n",
       "        text-align: right;\n",
       "    }\n",
       "</style>\n",
       "<table border=\"1\" class=\"dataframe\">\n",
       "  <thead>\n",
       "    <tr style=\"text-align: right;\">\n",
       "      <th></th>\n",
       "      <th>BI_RADS</th>\n",
       "      <th>Age</th>\n",
       "      <th>Severity</th>\n",
       "      <th>Shape_irregular</th>\n",
       "      <th>Shape_lobular</th>\n",
       "      <th>Shape_oval</th>\n",
       "      <th>Shape_round</th>\n",
       "      <th>Margin_circumscribed</th>\n",
       "      <th>Margin_ill-defined</th>\n",
       "      <th>Margin_microlobulated</th>\n",
       "      <th>Margin_obscured</th>\n",
       "      <th>Margin_spiculated</th>\n",
       "      <th>Mass_Density_encode</th>\n",
       "    </tr>\n",
       "    <tr>\n",
       "      <th>Index</th>\n",
       "      <th></th>\n",
       "      <th></th>\n",
       "      <th></th>\n",
       "      <th></th>\n",
       "      <th></th>\n",
       "      <th></th>\n",
       "      <th></th>\n",
       "      <th></th>\n",
       "      <th></th>\n",
       "      <th></th>\n",
       "      <th></th>\n",
       "      <th></th>\n",
       "      <th></th>\n",
       "    </tr>\n",
       "  </thead>\n",
       "  <tbody>\n",
       "    <tr>\n",
       "      <th>1</th>\n",
       "      <td>5</td>\n",
       "      <td>65.0</td>\n",
       "      <td>1</td>\n",
       "      <td>0</td>\n",
       "      <td>1</td>\n",
       "      <td>0</td>\n",
       "      <td>0</td>\n",
       "      <td>0</td>\n",
       "      <td>1</td>\n",
       "      <td>0</td>\n",
       "      <td>0</td>\n",
       "      <td>0</td>\n",
       "      <td>3</td>\n",
       "    </tr>\n",
       "    <tr>\n",
       "      <th>2</th>\n",
       "      <td>5</td>\n",
       "      <td>74.0</td>\n",
       "      <td>1</td>\n",
       "      <td>0</td>\n",
       "      <td>1</td>\n",
       "      <td>0</td>\n",
       "      <td>0</td>\n",
       "      <td>0</td>\n",
       "      <td>0</td>\n",
       "      <td>1</td>\n",
       "      <td>0</td>\n",
       "      <td>0</td>\n",
       "      <td>3</td>\n",
       "    </tr>\n",
       "    <tr>\n",
       "      <th>3</th>\n",
       "      <td>4</td>\n",
       "      <td>57.0</td>\n",
       "      <td>0</td>\n",
       "      <td>0</td>\n",
       "      <td>0</td>\n",
       "      <td>1</td>\n",
       "      <td>0</td>\n",
       "      <td>1</td>\n",
       "      <td>0</td>\n",
       "      <td>0</td>\n",
       "      <td>0</td>\n",
       "      <td>0</td>\n",
       "      <td>3</td>\n",
       "    </tr>\n",
       "    <tr>\n",
       "      <th>4</th>\n",
       "      <td>4</td>\n",
       "      <td>57.0</td>\n",
       "      <td>1</td>\n",
       "      <td>1</td>\n",
       "      <td>0</td>\n",
       "      <td>0</td>\n",
       "      <td>0</td>\n",
       "      <td>0</td>\n",
       "      <td>1</td>\n",
       "      <td>0</td>\n",
       "      <td>0</td>\n",
       "      <td>0</td>\n",
       "      <td>4</td>\n",
       "    </tr>\n",
       "    <tr>\n",
       "      <th>5</th>\n",
       "      <td>4</td>\n",
       "      <td>76.0</td>\n",
       "      <td>0</td>\n",
       "      <td>0</td>\n",
       "      <td>1</td>\n",
       "      <td>0</td>\n",
       "      <td>0</td>\n",
       "      <td>0</td>\n",
       "      <td>0</td>\n",
       "      <td>1</td>\n",
       "      <td>0</td>\n",
       "      <td>0</td>\n",
       "      <td>3</td>\n",
       "    </tr>\n",
       "  </tbody>\n",
       "</table>\n",
       "</div>"
      ],
      "text/plain": [
       "       BI_RADS   Age  Severity  Shape_irregular  Shape_lobular  Shape_oval  \\\n",
       "Index                                                                        \n",
       "1            5  65.0         1                0              1           0   \n",
       "2            5  74.0         1                0              1           0   \n",
       "3            4  57.0         0                0              0           1   \n",
       "4            4  57.0         1                1              0           0   \n",
       "5            4  76.0         0                0              1           0   \n",
       "\n",
       "       Shape_round  Margin_circumscribed  Margin_ill-defined  \\\n",
       "Index                                                          \n",
       "1                0                     0                   1   \n",
       "2                0                     0                   0   \n",
       "3                0                     1                   0   \n",
       "4                0                     0                   1   \n",
       "5                0                     0                   0   \n",
       "\n",
       "       Margin_microlobulated  Margin_obscured  Margin_spiculated  \\\n",
       "Index                                                              \n",
       "1                          0                0                  0   \n",
       "2                          1                0                  0   \n",
       "3                          0                0                  0   \n",
       "4                          0                0                  0   \n",
       "5                          1                0                  0   \n",
       "\n",
       "       Mass_Density_encode  \n",
       "Index                       \n",
       "1                        3  \n",
       "2                        3  \n",
       "3                        3  \n",
       "4                        4  \n",
       "5                        3  "
      ]
     },
     "execution_count": 69,
     "metadata": {},
     "output_type": "execute_result"
    }
   ],
   "source": [
    "test_df.head()"
   ]
  },
  {
   "cell_type": "markdown",
   "id": "4844b06f",
   "metadata": {},
   "source": [
    "## Model Building "
   ]
  },
  {
   "cell_type": "code",
   "execution_count": 70,
   "id": "8aaee140",
   "metadata": {},
   "outputs": [],
   "source": [
    "# Removing categorical columns\n",
    "train_df.drop(['Shape','Margin','Mass_Density','age_group'],axis=1, inplace=True)"
   ]
  },
  {
   "cell_type": "code",
   "execution_count": 71,
   "id": "77e223ce",
   "metadata": {
    "scrolled": false
   },
   "outputs": [
    {
     "name": "stdout",
     "output_type": "stream",
     "text": [
      "<class 'pandas.core.frame.DataFrame'>\n",
      "Int64Index: 784 entries, 1 to 811\n",
      "Data columns (total 13 columns):\n",
      " #   Column                 Non-Null Count  Dtype  \n",
      "---  ------                 --------------  -----  \n",
      " 0   BI_RADS                784 non-null    float64\n",
      " 1   Age                    784 non-null    float64\n",
      " 2   Severity               784 non-null    int64  \n",
      " 3   Shape_irregular        784 non-null    uint8  \n",
      " 4   Shape_lobular          784 non-null    uint8  \n",
      " 5   Shape_oval             784 non-null    uint8  \n",
      " 6   Shape_round            784 non-null    uint8  \n",
      " 7   Margin_circumscribed   784 non-null    uint8  \n",
      " 8   Margin_ill-defined     784 non-null    uint8  \n",
      " 9   Margin_microlobulated  784 non-null    uint8  \n",
      " 10  Margin_obscured        784 non-null    uint8  \n",
      " 11  Margin_spiculated      784 non-null    uint8  \n",
      " 12  Mass_Density_encode    784 non-null    int64  \n",
      "dtypes: float64(2), int64(2), uint8(9)\n",
      "memory usage: 53.7 KB\n"
     ]
    }
   ],
   "source": [
    "train_df.info()"
   ]
  },
  {
   "cell_type": "code",
   "execution_count": 72,
   "id": "0286f069",
   "metadata": {
    "scrolled": true
   },
   "outputs": [
    {
     "data": {
      "text/plain": [
       "(784, 13)"
      ]
     },
     "execution_count": 72,
     "metadata": {},
     "output_type": "execute_result"
    }
   ],
   "source": [
    "train_df.shape"
   ]
  },
  {
   "cell_type": "code",
   "execution_count": 73,
   "id": "8fbdad36",
   "metadata": {},
   "outputs": [
    {
     "data": {
      "text/plain": [
       "(142, 13)"
      ]
     },
     "execution_count": 73,
     "metadata": {},
     "output_type": "execute_result"
    }
   ],
   "source": [
    "test_df.shape"
   ]
  },
  {
   "cell_type": "code",
   "execution_count": 74,
   "id": "38cdc8bd",
   "metadata": {},
   "outputs": [],
   "source": [
    "# Seperating dependent and independent variables from train and test dataset.\n",
    "y_train = train_df.Severity.to_frame()\n",
    "x_train = train_df.drop(['Severity'], axis=1)\n",
    "y_test = test_df.Severity.to_frame()\n",
    "x_test = test_df.drop(['Severity'], axis=1)"
   ]
  },
  {
   "cell_type": "markdown",
   "id": "7501b7c0",
   "metadata": {},
   "source": [
    "### Logistic Regression"
   ]
  },
  {
   "cell_type": "code",
   "execution_count": 75,
   "id": "87853b71",
   "metadata": {},
   "outputs": [
    {
     "name": "stdout",
     "output_type": "stream",
     "text": [
      "Accuracy :  0.7887323943661971\n",
      "Precision :  0.8301886792452831\n",
      "Recall :  0.676923076923077\n",
      "F1-score :  0.7457627118644068\n"
     ]
    }
   ],
   "source": [
    "from sklearn.linear_model import LogisticRegression\n",
    "\n",
    "model = LogisticRegression()\n",
    "model.fit(x_train, y_train)\n",
    "\n",
    "y_pred = model.predict(x_test)\n",
    "\n",
    "accuracy_log = metrics.accuracy_score(y_test, y_pred)\n",
    "precision_log = metrics.precision_score(y_test, y_pred, pos_label=1)\n",
    "recall_log = metrics.recall_score(y_test, y_pred, pos_label=1)\n",
    "f1score_log = metrics.f1_score(y_test, y_pred, pos_label=1)\n",
    "\n",
    "print(\"Accuracy : \",accuracy_log)\n",
    "print(\"Precision : \", precision_log)\n",
    "print(\"Recall : \", recall_log)\n",
    "print(\"F1-score : \", f1score_log)"
   ]
  },
  {
   "cell_type": "markdown",
   "id": "e0783d01",
   "metadata": {},
   "source": [
    "### Random Forest"
   ]
  },
  {
   "cell_type": "code",
   "execution_count": 76,
   "id": "b6ca3420",
   "metadata": {},
   "outputs": [
    {
     "name": "stdout",
     "output_type": "stream",
     "text": [
      "Accuracy :  0.7746478873239436\n",
      "Precision :  0.7894736842105263\n",
      "Recall :  0.6923076923076923\n",
      "F1-score :  0.7377049180327868\n"
     ]
    }
   ],
   "source": [
    "from sklearn.ensemble import RandomForestClassifier\n",
    "\n",
    "model = RandomForestClassifier()\n",
    "model.fit(x_train, y_train)\n",
    "\n",
    "y_pred = model.predict(x_test)\n",
    "\n",
    "accuracy_random = metrics.accuracy_score(y_test, y_pred)\n",
    "precision_random = metrics.precision_score(y_test, y_pred, pos_label=1)\n",
    "recall_random = metrics.recall_score(y_test, y_pred, pos_label=1)\n",
    "f1score_random = metrics.f1_score(y_test, y_pred, pos_label=1)\n",
    "\n",
    "print(\"Accuracy : \",accuracy_random)\n",
    "print(\"Precision : \", precision_random)\n",
    "print(\"Recall : \", recall_random)\n",
    "print(\"F1-score : \", f1score_random)"
   ]
  },
  {
   "cell_type": "markdown",
   "id": "8da8c586",
   "metadata": {},
   "source": [
    "### Ada Boost"
   ]
  },
  {
   "cell_type": "code",
   "execution_count": 77,
   "id": "262ad8cc",
   "metadata": {
    "scrolled": true
   },
   "outputs": [
    {
     "name": "stdout",
     "output_type": "stream",
     "text": [
      "Accuracy :  0.7887323943661971\n",
      "Precision :  0.972972972972973\n",
      "Recall :  0.5538461538461539\n",
      "F1-score :  0.7058823529411765\n"
     ]
    }
   ],
   "source": [
    "from sklearn.ensemble import AdaBoostClassifier\n",
    "\n",
    "model = AdaBoostClassifier()\n",
    "model.fit(x_train, y_train)\n",
    "\n",
    "y_pred = model.predict(x_test)\n",
    "\n",
    "accuracy_ada = metrics.accuracy_score(y_test, y_pred)\n",
    "precision_ada = metrics.precision_score(y_test, y_pred, pos_label=1)\n",
    "recall_ada = metrics.recall_score(y_test, y_pred, pos_label=1)\n",
    "f1score_ada = metrics.f1_score(y_test, y_pred, pos_label=1)\n",
    "\n",
    "print(\"Accuracy : \",accuracy_ada)\n",
    "print(\"Precision : \", precision_ada)\n",
    "print(\"Recall : \", recall_ada)\n",
    "print(\"F1-score : \", f1score_ada)"
   ]
  },
  {
   "cell_type": "markdown",
   "id": "fe5ab9c5",
   "metadata": {},
   "source": [
    "### XGBoost"
   ]
  },
  {
   "cell_type": "code",
   "execution_count": 78,
   "id": "c143a6b4",
   "metadata": {
    "scrolled": true
   },
   "outputs": [
    {
     "name": "stdout",
     "output_type": "stream",
     "text": [
      "Accuracy :  0.7535211267605634\n",
      "Precision :  0.7777777777777778\n",
      "Recall :  0.6461538461538462\n",
      "F1-score :  0.7058823529411764\n"
     ]
    }
   ],
   "source": [
    "from xgboost import XGBClassifier\n",
    "\n",
    "model = XGBClassifier(eval_metric='mlogloss')\n",
    "model.fit(x_train, y_train)\n",
    "\n",
    "y_pred = model.predict(x_test)\n",
    "\n",
    "accuracy_xg = metrics.accuracy_score(y_test, y_pred)\n",
    "precision_xg = metrics.precision_score(y_test, y_pred, pos_label=1)\n",
    "recall_xg = metrics.recall_score(y_test, y_pred, pos_label=1)\n",
    "f1score_xg = metrics.f1_score(y_test, y_pred, pos_label=1)\n",
    "\n",
    "print(\"Accuracy : \",accuracy_xg)\n",
    "print(\"Precision : \", precision_xg)\n",
    "print(\"Recall : \", recall_xg)\n",
    "print(\"F1-score : \", f1score_xg)"
   ]
  },
  {
   "cell_type": "markdown",
   "id": "9670aac0",
   "metadata": {},
   "source": [
    "### Decision Tree"
   ]
  },
  {
   "cell_type": "code",
   "execution_count": 79,
   "id": "bbb0b958",
   "metadata": {},
   "outputs": [
    {
     "name": "stdout",
     "output_type": "stream",
     "text": [
      "Accuracy :  0.7323943661971831\n",
      "Precision :  0.7647058823529411\n",
      "Recall :  0.6\n",
      "F1-score :  0.6724137931034482\n"
     ]
    }
   ],
   "source": [
    "from sklearn.tree import DecisionTreeClassifier\n",
    "\n",
    "model = DecisionTreeClassifier()\n",
    "model.fit(x_train, y_train)\n",
    "\n",
    "y_pred = model.predict(x_test)\n",
    "\n",
    "accuracy_decision = metrics.accuracy_score(y_test, y_pred)\n",
    "precision_decision = metrics.precision_score(y_test, y_pred, pos_label=1)\n",
    "recall_decision = metrics.recall_score(y_test, y_pred, pos_label=1)\n",
    "f1score_decision = metrics.f1_score(y_test, y_pred, pos_label=1)\n",
    "\n",
    "print(\"Accuracy : \",accuracy_decision)\n",
    "print(\"Precision : \", precision_decision)\n",
    "print(\"Recall : \", recall_decision)\n",
    "print(\"F1-score : \", f1score_decision)"
   ]
  },
  {
   "cell_type": "markdown",
   "id": "30814cc6",
   "metadata": {},
   "source": [
    "### SVM"
   ]
  },
  {
   "cell_type": "code",
   "execution_count": 80,
   "id": "d2240e8e",
   "metadata": {},
   "outputs": [
    {
     "name": "stdout",
     "output_type": "stream",
     "text": [
      "Accuracy :  0.7535211267605634\n",
      "Precision :  1.0\n",
      "Recall :  0.46153846153846156\n",
      "F1-score :  0.631578947368421\n"
     ]
    }
   ],
   "source": [
    "from sklearn import svm, datasets\n",
    "\n",
    "# Build the model and the corresponding predictions\n",
    "C = 1.0\n",
    "svc = svm.SVC(kernel='linear', C=C,random_state=1).fit(x_train, y_train)\n",
    "y_pred = svc.predict(x_test)\n",
    "\n",
    "accuracy_svm = metrics.accuracy_score(y_test, y_pred)\n",
    "precision_svm = metrics.precision_score(y_test, y_pred, pos_label=1)\n",
    "recall_svm = metrics.recall_score(y_test, y_pred, pos_label=1)\n",
    "f1score_svm = metrics.f1_score(y_test, y_pred, pos_label=1)\n",
    "\n",
    "print(\"Accuracy : \",accuracy_svm)\n",
    "print(\"Precision : \", precision_svm)\n",
    "print(\"Recall : \", recall_svm)\n",
    "print(\"F1-score : \", f1score_svm)"
   ]
  },
  {
   "cell_type": "markdown",
   "id": "4f5a4799",
   "metadata": {},
   "source": [
    "### KNN"
   ]
  },
  {
   "cell_type": "code",
   "execution_count": 81,
   "id": "3b161206",
   "metadata": {},
   "outputs": [
    {
     "name": "stdout",
     "output_type": "stream",
     "text": [
      "Accuracy :  0.7816901408450704\n",
      "Precision :  0.7833333333333333\n",
      "Recall :  0.7230769230769231\n",
      "F1-score :  0.752\n"
     ]
    }
   ],
   "source": [
    "from sklearn.neighbors import KNeighborsClassifier\n",
    "KNeighClf = KNeighborsClassifier(n_neighbors=15)\n",
    "KNN = KNeighClf.fit(x_train, y_train)\n",
    "y_pred = KNN.predict(x_test)\n",
    "\n",
    "accuracy_KNN = metrics.accuracy_score(y_test, y_pred)\n",
    "precision_KNN = metrics.precision_score(y_test, y_pred, pos_label=1)\n",
    "recall_KNN = metrics.recall_score(y_test, y_pred, pos_label=1)\n",
    "f1score_KNN = metrics.f1_score(y_test, y_pred, pos_label=1)\n",
    "\n",
    "print(\"Accuracy : \",accuracy_KNN)\n",
    "print(\"Precision : \", precision_KNN)\n",
    "print(\"Recall : \", recall_KNN)\n",
    "print(\"F1-score : \", f1score_KNN)"
   ]
  },
  {
   "cell_type": "code",
   "execution_count": 82,
   "id": "59c66ed0",
   "metadata": {},
   "outputs": [],
   "source": [
    "data = {'Models':['Logistics regression','Random Forest','Ada boost', 'XGBoost','Decision Tree', 'SVM', 'KNN'],\n",
    "        'Accuracy':[accuracy_log,accuracy_random,accuracy_ada,accuracy_xg,accuracy_decision,accuracy_svm,accuracy_KNN],\n",
    "       'Precision': [precision_log,precision_random,precision_ada,precision_xg,precision_decision,precision_svm,precision_KNN],\n",
    "       'Recall': [recall_log,recall_random,recall_ada,recall_xg,recall_decision,recall_svm,recall_KNN],\n",
    "       'F1-score':[f1score_log,f1score_random,f1score_ada,f1score_xg,f1score_decision,f1score_svm,f1score_KNN]}"
   ]
  },
  {
   "cell_type": "markdown",
   "id": "c4297c9d",
   "metadata": {},
   "source": [
    "### ALL MODEL EVALUATION"
   ]
  },
  {
   "cell_type": "code",
   "execution_count": 83,
   "id": "769f182f",
   "metadata": {},
   "outputs": [
    {
     "data": {
      "text/html": [
       "<div>\n",
       "<style scoped>\n",
       "    .dataframe tbody tr th:only-of-type {\n",
       "        vertical-align: middle;\n",
       "    }\n",
       "\n",
       "    .dataframe tbody tr th {\n",
       "        vertical-align: top;\n",
       "    }\n",
       "\n",
       "    .dataframe thead th {\n",
       "        text-align: right;\n",
       "    }\n",
       "</style>\n",
       "<table border=\"1\" class=\"dataframe\">\n",
       "  <thead>\n",
       "    <tr style=\"text-align: right;\">\n",
       "      <th></th>\n",
       "      <th>Models</th>\n",
       "      <th>Accuracy</th>\n",
       "      <th>Precision</th>\n",
       "      <th>Recall</th>\n",
       "      <th>F1-score</th>\n",
       "    </tr>\n",
       "  </thead>\n",
       "  <tbody>\n",
       "    <tr>\n",
       "      <th>0</th>\n",
       "      <td>Logistics regression</td>\n",
       "      <td>0.788732</td>\n",
       "      <td>0.830189</td>\n",
       "      <td>0.676923</td>\n",
       "      <td>0.745763</td>\n",
       "    </tr>\n",
       "    <tr>\n",
       "      <th>1</th>\n",
       "      <td>Random Forest</td>\n",
       "      <td>0.774648</td>\n",
       "      <td>0.789474</td>\n",
       "      <td>0.692308</td>\n",
       "      <td>0.737705</td>\n",
       "    </tr>\n",
       "    <tr>\n",
       "      <th>2</th>\n",
       "      <td>Ada boost</td>\n",
       "      <td>0.788732</td>\n",
       "      <td>0.972973</td>\n",
       "      <td>0.553846</td>\n",
       "      <td>0.705882</td>\n",
       "    </tr>\n",
       "    <tr>\n",
       "      <th>3</th>\n",
       "      <td>XGBoost</td>\n",
       "      <td>0.753521</td>\n",
       "      <td>0.777778</td>\n",
       "      <td>0.646154</td>\n",
       "      <td>0.705882</td>\n",
       "    </tr>\n",
       "    <tr>\n",
       "      <th>4</th>\n",
       "      <td>Decision Tree</td>\n",
       "      <td>0.732394</td>\n",
       "      <td>0.764706</td>\n",
       "      <td>0.600000</td>\n",
       "      <td>0.672414</td>\n",
       "    </tr>\n",
       "    <tr>\n",
       "      <th>5</th>\n",
       "      <td>SVM</td>\n",
       "      <td>0.753521</td>\n",
       "      <td>1.000000</td>\n",
       "      <td>0.461538</td>\n",
       "      <td>0.631579</td>\n",
       "    </tr>\n",
       "    <tr>\n",
       "      <th>6</th>\n",
       "      <td>KNN</td>\n",
       "      <td>0.781690</td>\n",
       "      <td>0.783333</td>\n",
       "      <td>0.723077</td>\n",
       "      <td>0.752000</td>\n",
       "    </tr>\n",
       "  </tbody>\n",
       "</table>\n",
       "</div>"
      ],
      "text/plain": [
       "                 Models  Accuracy  Precision    Recall  F1-score\n",
       "0  Logistics regression  0.788732   0.830189  0.676923  0.745763\n",
       "1         Random Forest  0.774648   0.789474  0.692308  0.737705\n",
       "2             Ada boost  0.788732   0.972973  0.553846  0.705882\n",
       "3               XGBoost  0.753521   0.777778  0.646154  0.705882\n",
       "4         Decision Tree  0.732394   0.764706  0.600000  0.672414\n",
       "5                   SVM  0.753521   1.000000  0.461538  0.631579\n",
       "6                   KNN  0.781690   0.783333  0.723077  0.752000"
      ]
     },
     "execution_count": 83,
     "metadata": {},
     "output_type": "execute_result"
    }
   ],
   "source": [
    "df = pd.DataFrame(data)\n",
    "df"
   ]
  },
  {
   "cell_type": "markdown",
   "id": "f52e3524",
   "metadata": {},
   "source": [
    "## Hyper parameter tunning"
   ]
  },
  {
   "cell_type": "code",
   "execution_count": 84,
   "id": "c02de434",
   "metadata": {},
   "outputs": [],
   "source": [
    "# Creating the hyperparameter grid for all the models\n",
    "\n",
    "model_params = {\n",
    "    'svm': {\n",
    "        'model': svm.SVC(gamma='auto'),\n",
    "        'params' : {\n",
    "            'C': range(1,15),\n",
    "            'kernel': ['rbf','linear']\n",
    "        }  \n",
    "    },\n",
    "    'random_forest': {\n",
    "        'model': RandomForestClassifier(),\n",
    "        'params' : {\n",
    "            'n_estimators': range(1,20)\n",
    "        }\n",
    "    },\n",
    "    'logistic_regression' : {\n",
    "        'model': LogisticRegression(solver='liblinear',multi_class='auto'),\n",
    "        'params': {\n",
    "            'C': range(1,20)\n",
    "        }\n",
    "    },\n",
    "    'KNN' : {\n",
    "        'model': KNeighborsClassifier(),\n",
    "        'params': {\n",
    "            'n_neighbors': range(1,20)\n",
    "        }\n",
    "    },\n",
    "    'Ada_boost' : {\n",
    "        'model': AdaBoostClassifier(),\n",
    "        'params': {\n",
    "            'n_estimators': range(1,20)\n",
    "        }\n",
    "    },\n",
    "    'XGboost' : {\n",
    "        'model': XGBClassifier(eval_metric='mlogloss'),\n",
    "        'params': {\n",
    "            'n_estimators': range(1,20)\n",
    "        }\n",
    "    }\n",
    "}"
   ]
  },
  {
   "cell_type": "code",
   "execution_count": 85,
   "id": "5a200675",
   "metadata": {},
   "outputs": [
    {
     "data": {
      "text/html": [
       "<div>\n",
       "<style scoped>\n",
       "    .dataframe tbody tr th:only-of-type {\n",
       "        vertical-align: middle;\n",
       "    }\n",
       "\n",
       "    .dataframe tbody tr th {\n",
       "        vertical-align: top;\n",
       "    }\n",
       "\n",
       "    .dataframe thead th {\n",
       "        text-align: right;\n",
       "    }\n",
       "</style>\n",
       "<table border=\"1\" class=\"dataframe\">\n",
       "  <thead>\n",
       "    <tr style=\"text-align: right;\">\n",
       "      <th></th>\n",
       "      <th>model</th>\n",
       "      <th>best_score</th>\n",
       "      <th>best_params</th>\n",
       "    </tr>\n",
       "  </thead>\n",
       "  <tbody>\n",
       "    <tr>\n",
       "      <th>0</th>\n",
       "      <td>svm</td>\n",
       "      <td>0.832933</td>\n",
       "      <td>{'C': 1, 'kernel': 'linear'}</td>\n",
       "    </tr>\n",
       "    <tr>\n",
       "      <th>1</th>\n",
       "      <td>random_forest</td>\n",
       "      <td>0.795942</td>\n",
       "      <td>{'n_estimators': 3}</td>\n",
       "    </tr>\n",
       "    <tr>\n",
       "      <th>2</th>\n",
       "      <td>logistic_regression</td>\n",
       "      <td>0.843108</td>\n",
       "      <td>{'C': 5}</td>\n",
       "    </tr>\n",
       "    <tr>\n",
       "      <th>3</th>\n",
       "      <td>KNN</td>\n",
       "      <td>0.820211</td>\n",
       "      <td>{'n_neighbors': 11}</td>\n",
       "    </tr>\n",
       "    <tr>\n",
       "      <th>4</th>\n",
       "      <td>Ada_boost</td>\n",
       "      <td>0.843132</td>\n",
       "      <td>{'n_estimators': 3}</td>\n",
       "    </tr>\n",
       "    <tr>\n",
       "      <th>5</th>\n",
       "      <td>XGboost</td>\n",
       "      <td>0.829095</td>\n",
       "      <td>{'n_estimators': 3}</td>\n",
       "    </tr>\n",
       "  </tbody>\n",
       "</table>\n",
       "</div>"
      ],
      "text/plain": [
       "                 model  best_score                   best_params\n",
       "0                  svm    0.832933  {'C': 1, 'kernel': 'linear'}\n",
       "1        random_forest    0.795942           {'n_estimators': 3}\n",
       "2  logistic_regression    0.843108                      {'C': 5}\n",
       "3                  KNN    0.820211           {'n_neighbors': 11}\n",
       "4            Ada_boost    0.843132           {'n_estimators': 3}\n",
       "5              XGboost    0.829095           {'n_estimators': 3}"
      ]
     },
     "execution_count": 85,
     "metadata": {},
     "output_type": "execute_result"
    }
   ],
   "source": [
    "# Keeping score for all the models in a dataframe\n",
    "scores = []\n",
    "\n",
    "for model_name, mp in model_params.items():\n",
    "    clf =  GridSearchCV(mp['model'], mp['params'], cv=5, return_train_score=False)\n",
    "    clf.fit(x_train, y_train)\n",
    "    scores.append({\n",
    "        'model': model_name,\n",
    "        'best_score': clf.best_score_,\n",
    "        'best_params': clf.best_params_\n",
    "    })\n",
    "    \n",
    "df = pd.DataFrame(scores,columns=['model','best_score','best_params'])\n",
    "df"
   ]
  },
  {
   "cell_type": "markdown",
   "id": "5e962735",
   "metadata": {},
   "source": [
    "### Running models with best parameter values"
   ]
  },
  {
   "cell_type": "code",
   "execution_count": 86,
   "id": "851b9937",
   "metadata": {},
   "outputs": [],
   "source": [
    "from sklearn.linear_model import LogisticRegression\n",
    "from sklearn.metrics import confusion_matrix\n",
    "from sklearn.metrics import classification_report\n",
    "\n",
    "model = LogisticRegression(C=5)\n",
    "model.fit(x_train, y_train)\n",
    "\n",
    "y_pred = model.predict(x_test)\n",
    "\n",
    "accuracy_log = metrics.accuracy_score(y_test, y_pred)\n",
    "precision_log = metrics.precision_score(y_test, y_pred, pos_label=1)\n",
    "recall_log = metrics.recall_score(y_test, y_pred, pos_label=1)\n",
    "f1score_log = metrics.f1_score(y_test, y_pred, pos_label=1)\n",
    "\n",
    "from sklearn.ensemble import RandomForestClassifier\n",
    "\n",
    "model = RandomForestClassifier(n_estimators=13)\n",
    "model.fit(x_train, y_train)\n",
    "\n",
    "y_pred = model.predict(x_test)\n",
    "\n",
    "accuracy_random = metrics.accuracy_score(y_test, y_pred)\n",
    "precision_random = metrics.precision_score(y_test, y_pred, pos_label=1)\n",
    "recall_random = metrics.recall_score(y_test, y_pred, pos_label=1)\n",
    "f1score_random = metrics.f1_score(y_test, y_pred, pos_label=1)\n",
    "\n",
    "from sklearn.ensemble import AdaBoostClassifier\n",
    "\n",
    "model = AdaBoostClassifier(n_estimators=3)\n",
    "model.fit(x_train, y_train)\n",
    "\n",
    "y_pred = model.predict(x_test)\n",
    "\n",
    "accuracy_ada = metrics.accuracy_score(y_test, y_pred)\n",
    "precision_ada = metrics.precision_score(y_test, y_pred, pos_label=1)\n",
    "recall_ada = metrics.recall_score(y_test, y_pred, pos_label=1)\n",
    "f1score_ada = metrics.f1_score(y_test, y_pred, pos_label=1)\n",
    "\n",
    "from xgboost import XGBClassifier\n",
    "\n",
    "model = XGBClassifier(eval_metric='mlogloss',n_estimators=3 )\n",
    "model.fit(x_train, y_train)\n",
    "\n",
    "y_pred = model.predict(x_test)\n",
    "\n",
    "accuracy_xg = metrics.accuracy_score(y_test, y_pred)\n",
    "precision_xg = metrics.precision_score(y_test, y_pred, pos_label=1)\n",
    "recall_xg = metrics.recall_score(y_test, y_pred, pos_label=1)\n",
    "f1score_xg = metrics.f1_score(y_test, y_pred, pos_label=1)\n",
    "\n",
    "from sklearn.tree import DecisionTreeClassifier\n",
    "\n",
    "model = DecisionTreeClassifier()\n",
    "model.fit(x_train, y_train)\n",
    "\n",
    "y_pred = model.predict(x_test)\n",
    "\n",
    "accuracy_decision = metrics.accuracy_score(y_test, y_pred)\n",
    "precision_decision = metrics.precision_score(y_test, y_pred, pos_label=1)\n",
    "recall_decision = metrics.recall_score(y_test, y_pred, pos_label=1)\n",
    "f1score_decision = metrics.f1_score(y_test, y_pred, pos_label=1)\n",
    "\n",
    "from sklearn import svm, datasets\n",
    "\n",
    "# Build the model and the corresponding predictions\n",
    "C = 1.0\n",
    "svc = svm.SVC(kernel='linear', C=C,random_state=1).fit(x_train, y_train)\n",
    "y_pred = svc.predict(x_test)\n",
    "\n",
    "accuracy_svm = metrics.accuracy_score(y_test, y_pred)\n",
    "precision_svm = metrics.precision_score(y_test, y_pred, pos_label=1)\n",
    "recall_svm = metrics.recall_score(y_test, y_pred, pos_label=1)\n",
    "f1score_svm = metrics.f1_score(y_test, y_pred, pos_label=1)\n",
    "\n",
    "from sklearn.neighbors import KNeighborsClassifier\n",
    "KNeighClf = KNeighborsClassifier(n_neighbors=11)\n",
    "KNN = KNeighClf.fit(x_train, y_train)\n",
    "y_pred = KNN.predict(x_test)\n",
    "\n",
    "accuracy_KNN = metrics.accuracy_score(y_test, y_pred)\n",
    "precision_KNN = metrics.precision_score(y_test, y_pred, pos_label=1)\n",
    "recall_KNN = metrics.recall_score(y_test, y_pred, pos_label=1)\n",
    "f1score_KNN = metrics.f1_score(y_test, y_pred, pos_label=1)"
   ]
  },
  {
   "cell_type": "code",
   "execution_count": 87,
   "id": "7098f4f1",
   "metadata": {},
   "outputs": [],
   "source": [
    "data2 = {'Models':['Logistics regression','Random Forest','Ada boost', 'XGBoost','Decision Tree', 'SVM', 'KNN'],\n",
    "        'Accuracy':[accuracy_log,accuracy_random,accuracy_ada,accuracy_xg,accuracy_decision,accuracy_svm,accuracy_KNN],\n",
    "       'Precision': [precision_log,precision_random,precision_ada,precision_xg,precision_decision,precision_svm,precision_KNN],\n",
    "       'Recall': [recall_log,recall_random,recall_ada,recall_xg,recall_decision,recall_svm,recall_KNN],\n",
    "       'F1-score':[f1score_log,f1score_random,f1score_ada,f1score_xg,f1score_decision,f1score_svm,f1score_KNN]}"
   ]
  },
  {
   "cell_type": "code",
   "execution_count": 88,
   "id": "582b480b",
   "metadata": {},
   "outputs": [
    {
     "data": {
      "text/html": [
       "<div>\n",
       "<style scoped>\n",
       "    .dataframe tbody tr th:only-of-type {\n",
       "        vertical-align: middle;\n",
       "    }\n",
       "\n",
       "    .dataframe tbody tr th {\n",
       "        vertical-align: top;\n",
       "    }\n",
       "\n",
       "    .dataframe thead th {\n",
       "        text-align: right;\n",
       "    }\n",
       "</style>\n",
       "<table border=\"1\" class=\"dataframe\">\n",
       "  <thead>\n",
       "    <tr style=\"text-align: right;\">\n",
       "      <th></th>\n",
       "      <th>Models</th>\n",
       "      <th>Accuracy</th>\n",
       "      <th>Precision</th>\n",
       "      <th>Recall</th>\n",
       "      <th>F1-score</th>\n",
       "    </tr>\n",
       "  </thead>\n",
       "  <tbody>\n",
       "    <tr>\n",
       "      <th>0</th>\n",
       "      <td>Logistics regression</td>\n",
       "      <td>0.802817</td>\n",
       "      <td>0.862745</td>\n",
       "      <td>0.676923</td>\n",
       "      <td>0.758621</td>\n",
       "    </tr>\n",
       "    <tr>\n",
       "      <th>1</th>\n",
       "      <td>Random Forest</td>\n",
       "      <td>0.767606</td>\n",
       "      <td>0.796296</td>\n",
       "      <td>0.661538</td>\n",
       "      <td>0.722689</td>\n",
       "    </tr>\n",
       "    <tr>\n",
       "      <th>2</th>\n",
       "      <td>Ada boost</td>\n",
       "      <td>0.802817</td>\n",
       "      <td>0.974359</td>\n",
       "      <td>0.584615</td>\n",
       "      <td>0.730769</td>\n",
       "    </tr>\n",
       "    <tr>\n",
       "      <th>3</th>\n",
       "      <td>XGBoost</td>\n",
       "      <td>0.802817</td>\n",
       "      <td>0.803279</td>\n",
       "      <td>0.753846</td>\n",
       "      <td>0.777778</td>\n",
       "    </tr>\n",
       "    <tr>\n",
       "      <th>4</th>\n",
       "      <td>Decision Tree</td>\n",
       "      <td>0.725352</td>\n",
       "      <td>0.760000</td>\n",
       "      <td>0.584615</td>\n",
       "      <td>0.660870</td>\n",
       "    </tr>\n",
       "    <tr>\n",
       "      <th>5</th>\n",
       "      <td>SVM</td>\n",
       "      <td>0.753521</td>\n",
       "      <td>1.000000</td>\n",
       "      <td>0.461538</td>\n",
       "      <td>0.631579</td>\n",
       "    </tr>\n",
       "    <tr>\n",
       "      <th>6</th>\n",
       "      <td>KNN</td>\n",
       "      <td>0.795775</td>\n",
       "      <td>0.781250</td>\n",
       "      <td>0.769231</td>\n",
       "      <td>0.775194</td>\n",
       "    </tr>\n",
       "  </tbody>\n",
       "</table>\n",
       "</div>"
      ],
      "text/plain": [
       "                 Models  Accuracy  Precision    Recall  F1-score\n",
       "0  Logistics regression  0.802817   0.862745  0.676923  0.758621\n",
       "1         Random Forest  0.767606   0.796296  0.661538  0.722689\n",
       "2             Ada boost  0.802817   0.974359  0.584615  0.730769\n",
       "3               XGBoost  0.802817   0.803279  0.753846  0.777778\n",
       "4         Decision Tree  0.725352   0.760000  0.584615  0.660870\n",
       "5                   SVM  0.753521   1.000000  0.461538  0.631579\n",
       "6                   KNN  0.795775   0.781250  0.769231  0.775194"
      ]
     },
     "execution_count": 88,
     "metadata": {},
     "output_type": "execute_result"
    }
   ],
   "source": [
    "df = pd.DataFrame(data2)\n",
    "df"
   ]
  },
  {
   "cell_type": "markdown",
   "id": "eb0e5f27",
   "metadata": {},
   "source": [
    "Note : \n",
    "    Since we are working on Cancer detection, __false negetive__ values should be lowest. To measure the same, __RECALL__ is the best parameter.\n",
    "    From above comparision, XGBoost performed the best.\n",
    "    "
   ]
  }
 ],
 "metadata": {
  "kernelspec": {
   "display_name": "Python 3",
   "language": "python",
   "name": "python3"
  },
  "language_info": {
   "codemirror_mode": {
    "name": "ipython",
    "version": 3
   },
   "file_extension": ".py",
   "mimetype": "text/x-python",
   "name": "python",
   "nbconvert_exporter": "python",
   "pygments_lexer": "ipython3",
   "version": "3.8.8"
  }
 },
 "nbformat": 4,
 "nbformat_minor": 5
}
